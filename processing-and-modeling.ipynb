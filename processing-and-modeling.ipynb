{
 "cells": [
  {
   "cell_type": "code",
   "execution_count": 1,
   "metadata": {},
   "outputs": [],
   "source": [
    "from twitterscraper import query_tweets\n",
    "import codecs, json\n",
    "import pandas as pd\n",
    "import numpy as np\n",
    "import os\n",
    "import subprocess\n",
    "from sklearn.feature_extraction.text import CountVectorizer\n",
    "from sklearn.cluster import DBSCAN\n",
    "from sklearn.metrics import silhouette_score"
   ]
  },
  {
   "cell_type": "code",
   "execution_count": 2,
   "metadata": {},
   "outputs": [
    {
     "data": {
      "text/html": [
       "<div>\n",
       "<style scoped>\n",
       "    .dataframe tbody tr th:only-of-type {\n",
       "        vertical-align: middle;\n",
       "    }\n",
       "\n",
       "    .dataframe tbody tr th {\n",
       "        vertical-align: top;\n",
       "    }\n",
       "\n",
       "    .dataframe thead th {\n",
       "        text-align: right;\n",
       "    }\n",
       "</style>\n",
       "<table border=\"1\" class=\"dataframe\">\n",
       "  <thead>\n",
       "    <tr style=\"text-align: right;\">\n",
       "      <th></th>\n",
       "      <th>Unnamed: 0</th>\n",
       "      <th>fullname</th>\n",
       "      <th>html</th>\n",
       "      <th>id</th>\n",
       "      <th>likes</th>\n",
       "      <th>replies</th>\n",
       "      <th>retweets</th>\n",
       "      <th>text</th>\n",
       "      <th>timestamp</th>\n",
       "      <th>url</th>\n",
       "      <th>user</th>\n",
       "      <th>latitude</th>\n",
       "      <th>longitude</th>\n",
       "    </tr>\n",
       "  </thead>\n",
       "  <tbody>\n",
       "    <tr>\n",
       "      <th>0</th>\n",
       "      <td>0</td>\n",
       "      <td>Arijan Ramku  🌹</td>\n",
       "      <td>&lt;p class=\"TweetTextSize js-tweet-text tweet-te...</td>\n",
       "      <td>263430003797151746</td>\n",
       "      <td>0.0</td>\n",
       "      <td>0.0</td>\n",
       "      <td>1.0</td>\n",
       "      <td>Staten Island #Sandy pic.twitter.com/h0gFWKvp</td>\n",
       "      <td>2012-10-30T23:59:42</td>\n",
       "      <td>/ariramku/status/263430003797151746</td>\n",
       "      <td>ariramku</td>\n",
       "      <td>40.601962</td>\n",
       "      <td>-73.973578</td>\n",
       "    </tr>\n",
       "    <tr>\n",
       "      <th>1</th>\n",
       "      <td>1</td>\n",
       "      <td>мια</td>\n",
       "      <td>&lt;p class=\"TweetTextSize js-tweet-text tweet-te...</td>\n",
       "      <td>263429531082293248</td>\n",
       "      <td>0.0</td>\n",
       "      <td>0.0</td>\n",
       "      <td>0.0</td>\n",
       "      <td>24 hours w/out power. #Sandy</td>\n",
       "      <td>2012-10-30T23:57:49</td>\n",
       "      <td>/miasolx/status/263429531082293248</td>\n",
       "      <td>miasolx</td>\n",
       "      <td>40.601962</td>\n",
       "      <td>-73.973578</td>\n",
       "    </tr>\n",
       "    <tr>\n",
       "      <th>2</th>\n",
       "      <td>2</td>\n",
       "      <td>Deanna</td>\n",
       "      <td>&lt;p class=\"TweetTextSize js-tweet-text tweet-te...</td>\n",
       "      <td>263426428157173760</td>\n",
       "      <td>0.0</td>\n",
       "      <td>0.0</td>\n",
       "      <td>0.0</td>\n",
       "      <td>heading home from Sheepshead bay Cleaning stor...</td>\n",
       "      <td>2012-10-30T23:45:29</td>\n",
       "      <td>/Dbitetti/status/263426428157173760</td>\n",
       "      <td>Dbitetti</td>\n",
       "      <td>40.601962</td>\n",
       "      <td>-73.973578</td>\n",
       "    </tr>\n",
       "    <tr>\n",
       "      <th>3</th>\n",
       "      <td>3</td>\n",
       "      <td>William Bright</td>\n",
       "      <td>&lt;p class=\"TweetTextSize js-tweet-text tweet-te...</td>\n",
       "      <td>263426306811756545</td>\n",
       "      <td>0.0</td>\n",
       "      <td>0.0</td>\n",
       "      <td>0.0</td>\n",
       "      <td>Nathan's Famous Take Home Food. But no power. ...</td>\n",
       "      <td>2012-10-30T23:45:00</td>\n",
       "      <td>/brightfactor/status/263426306811756545</td>\n",
       "      <td>brightfactor</td>\n",
       "      <td>40.601962</td>\n",
       "      <td>-73.973578</td>\n",
       "    </tr>\n",
       "    <tr>\n",
       "      <th>4</th>\n",
       "      <td>4</td>\n",
       "      <td>William Bright</td>\n",
       "      <td>&lt;p class=\"TweetTextSize js-tweet-text tweet-te...</td>\n",
       "      <td>263425970713817088</td>\n",
       "      <td>0.0</td>\n",
       "      <td>0.0</td>\n",
       "      <td>0.0</td>\n",
       "      <td>The Cyclone. Coney Island is still without pow...</td>\n",
       "      <td>2012-10-30T23:43:40</td>\n",
       "      <td>/brightfactor/status/263425970713817088</td>\n",
       "      <td>brightfactor</td>\n",
       "      <td>40.601962</td>\n",
       "      <td>-73.973578</td>\n",
       "    </tr>\n",
       "  </tbody>\n",
       "</table>\n",
       "</div>"
      ],
      "text/plain": [
       "  Unnamed: 0         fullname  \\\n",
       "0          0  Arijan Ramku  🌹   \n",
       "1          1              мια   \n",
       "2          2           Deanna   \n",
       "3          3   William Bright   \n",
       "4          4   William Bright   \n",
       "\n",
       "                                                html                  id  \\\n",
       "0  <p class=\"TweetTextSize js-tweet-text tweet-te...  263430003797151746   \n",
       "1  <p class=\"TweetTextSize js-tweet-text tweet-te...  263429531082293248   \n",
       "2  <p class=\"TweetTextSize js-tweet-text tweet-te...  263426428157173760   \n",
       "3  <p class=\"TweetTextSize js-tweet-text tweet-te...  263426306811756545   \n",
       "4  <p class=\"TweetTextSize js-tweet-text tweet-te...  263425970713817088   \n",
       "\n",
       "   likes  replies  retweets  \\\n",
       "0    0.0      0.0       1.0   \n",
       "1    0.0      0.0       0.0   \n",
       "2    0.0      0.0       0.0   \n",
       "3    0.0      0.0       0.0   \n",
       "4    0.0      0.0       0.0   \n",
       "\n",
       "                                                text            timestamp  \\\n",
       "0      Staten Island #Sandy pic.twitter.com/h0gFWKvp  2012-10-30T23:59:42   \n",
       "1                       24 hours w/out power. #Sandy  2012-10-30T23:57:49   \n",
       "2  heading home from Sheepshead bay Cleaning stor...  2012-10-30T23:45:29   \n",
       "3  Nathan's Famous Take Home Food. But no power. ...  2012-10-30T23:45:00   \n",
       "4  The Cyclone. Coney Island is still without pow...  2012-10-30T23:43:40   \n",
       "\n",
       "                                       url          user   latitude  longitude  \n",
       "0      /ariramku/status/263430003797151746      ariramku  40.601962 -73.973578  \n",
       "1       /miasolx/status/263429531082293248       miasolx  40.601962 -73.973578  \n",
       "2      /Dbitetti/status/263426428157173760      Dbitetti  40.601962 -73.973578  \n",
       "3  /brightfactor/status/263426306811756545  brightfactor  40.601962 -73.973578  \n",
       "4  /brightfactor/status/263425970713817088  brightfactor  40.601962 -73.973578  "
      ]
     },
     "execution_count": 2,
     "metadata": {},
     "output_type": "execute_result"
    }
   ],
   "source": [
    "tweets = pd.read_csv('./tweets.csv')\n",
    "tweets.head()"
   ]
  },
  {
   "cell_type": "code",
   "execution_count": 3,
   "metadata": {},
   "outputs": [
    {
     "data": {
      "text/plain": [
       "(10537, 13)"
      ]
     },
     "execution_count": 3,
     "metadata": {},
     "output_type": "execute_result"
    }
   ],
   "source": [
    "tweets.shape"
   ]
  },
  {
   "cell_type": "code",
   "execution_count": 4,
   "metadata": {},
   "outputs": [],
   "source": [
    "# converting the text of all the twitter posts to strings and to lowercase\n",
    "tweets['text'] = [str(doc).lower() for doc in tweets['text']]"
   ]
  },
  {
   "cell_type": "code",
   "execution_count": 5,
   "metadata": {},
   "outputs": [
    {
     "data": {
      "text/plain": [
       "0        staten island #sandy pic.twitter.com/h0gfwkvp\n",
       "1                         24 hours w/out power. #sandy\n",
       "2    heading home from sheepshead bay cleaning stor...\n",
       "3    nathan's famous take home food. but no power. ...\n",
       "4    the cyclone. coney island is still without pow...\n",
       "Name: text, dtype: object"
      ]
     },
     "execution_count": 5,
     "metadata": {},
     "output_type": "execute_result"
    }
   ],
   "source": [
    "# checking the result\n",
    "tweets['text'].head()"
   ]
  },
  {
   "cell_type": "code",
   "execution_count": 6,
   "metadata": {},
   "outputs": [],
   "source": [
    "# instantiating a count vectorizer with ngrams up to 2\n",
    "cvec = CountVectorizer(ngram_range=(1,2))"
   ]
  },
  {
   "cell_type": "code",
   "execution_count": 7,
   "metadata": {},
   "outputs": [],
   "source": [
    "# fitting and transforming the twitter posts with the count vectorizer\n",
    "X = cvec.fit_transform(tweets['text'])"
   ]
  },
  {
   "cell_type": "code",
   "execution_count": 8,
   "metadata": {},
   "outputs": [],
   "source": [
    "# converting the result to a dataframe\n",
    "cvec_df = pd.DataFrame(X.toarray(),\n",
    "                   columns=cvec.get_feature_names())"
   ]
  },
  {
   "cell_type": "code",
   "execution_count": 9,
   "metadata": {},
   "outputs": [
    {
     "data": {
      "text/html": [
       "<div>\n",
       "<style scoped>\n",
       "    .dataframe tbody tr th:only-of-type {\n",
       "        vertical-align: middle;\n",
       "    }\n",
       "\n",
       "    .dataframe tbody tr th {\n",
       "        vertical-align: top;\n",
       "    }\n",
       "\n",
       "    .dataframe thead th {\n",
       "        text-align: right;\n",
       "    }\n",
       "</style>\n",
       "<table border=\"1\" class=\"dataframe\">\n",
       "  <thead>\n",
       "    <tr style=\"text-align: right;\">\n",
       "      <th></th>\n",
       "      <th>00</th>\n",
       "      <th>00 am</th>\n",
       "      <th>00 and</th>\n",
       "      <th>00 curfew</th>\n",
       "      <th>00 et</th>\n",
       "      <th>00 guess</th>\n",
       "      <th>00 the</th>\n",
       "      <th>00 tomorrow</th>\n",
       "      <th>000</th>\n",
       "      <th>000 000</th>\n",
       "      <th>...</th>\n",
       "      <th>제대로된</th>\n",
       "      <th>제대로된 태풍</th>\n",
       "      <th>진입안하고</th>\n",
       "      <th>진입안하고 왼쪽으로</th>\n",
       "      <th>태풍</th>\n",
       "      <th>태풍 오지도않았는데</th>\n",
       "      <th>허드슨리버쪽</th>\n",
       "      <th>허드슨리버쪽 동네는</th>\n",
       "      <th>허리케인</th>\n",
       "      <th>허리케인 ㅠㅠ</th>\n",
       "    </tr>\n",
       "  </thead>\n",
       "  <tbody>\n",
       "    <tr>\n",
       "      <th>0</th>\n",
       "      <td>0</td>\n",
       "      <td>0</td>\n",
       "      <td>0</td>\n",
       "      <td>0</td>\n",
       "      <td>0</td>\n",
       "      <td>0</td>\n",
       "      <td>0</td>\n",
       "      <td>0</td>\n",
       "      <td>0</td>\n",
       "      <td>0</td>\n",
       "      <td>...</td>\n",
       "      <td>0</td>\n",
       "      <td>0</td>\n",
       "      <td>0</td>\n",
       "      <td>0</td>\n",
       "      <td>0</td>\n",
       "      <td>0</td>\n",
       "      <td>0</td>\n",
       "      <td>0</td>\n",
       "      <td>0</td>\n",
       "      <td>0</td>\n",
       "    </tr>\n",
       "    <tr>\n",
       "      <th>1</th>\n",
       "      <td>0</td>\n",
       "      <td>0</td>\n",
       "      <td>0</td>\n",
       "      <td>0</td>\n",
       "      <td>0</td>\n",
       "      <td>0</td>\n",
       "      <td>0</td>\n",
       "      <td>0</td>\n",
       "      <td>0</td>\n",
       "      <td>0</td>\n",
       "      <td>...</td>\n",
       "      <td>0</td>\n",
       "      <td>0</td>\n",
       "      <td>0</td>\n",
       "      <td>0</td>\n",
       "      <td>0</td>\n",
       "      <td>0</td>\n",
       "      <td>0</td>\n",
       "      <td>0</td>\n",
       "      <td>0</td>\n",
       "      <td>0</td>\n",
       "    </tr>\n",
       "    <tr>\n",
       "      <th>2</th>\n",
       "      <td>0</td>\n",
       "      <td>0</td>\n",
       "      <td>0</td>\n",
       "      <td>0</td>\n",
       "      <td>0</td>\n",
       "      <td>0</td>\n",
       "      <td>0</td>\n",
       "      <td>0</td>\n",
       "      <td>0</td>\n",
       "      <td>0</td>\n",
       "      <td>...</td>\n",
       "      <td>0</td>\n",
       "      <td>0</td>\n",
       "      <td>0</td>\n",
       "      <td>0</td>\n",
       "      <td>0</td>\n",
       "      <td>0</td>\n",
       "      <td>0</td>\n",
       "      <td>0</td>\n",
       "      <td>0</td>\n",
       "      <td>0</td>\n",
       "    </tr>\n",
       "    <tr>\n",
       "      <th>3</th>\n",
       "      <td>0</td>\n",
       "      <td>0</td>\n",
       "      <td>0</td>\n",
       "      <td>0</td>\n",
       "      <td>0</td>\n",
       "      <td>0</td>\n",
       "      <td>0</td>\n",
       "      <td>0</td>\n",
       "      <td>0</td>\n",
       "      <td>0</td>\n",
       "      <td>...</td>\n",
       "      <td>0</td>\n",
       "      <td>0</td>\n",
       "      <td>0</td>\n",
       "      <td>0</td>\n",
       "      <td>0</td>\n",
       "      <td>0</td>\n",
       "      <td>0</td>\n",
       "      <td>0</td>\n",
       "      <td>0</td>\n",
       "      <td>0</td>\n",
       "    </tr>\n",
       "    <tr>\n",
       "      <th>4</th>\n",
       "      <td>0</td>\n",
       "      <td>0</td>\n",
       "      <td>0</td>\n",
       "      <td>0</td>\n",
       "      <td>0</td>\n",
       "      <td>0</td>\n",
       "      <td>0</td>\n",
       "      <td>0</td>\n",
       "      <td>0</td>\n",
       "      <td>0</td>\n",
       "      <td>...</td>\n",
       "      <td>0</td>\n",
       "      <td>0</td>\n",
       "      <td>0</td>\n",
       "      <td>0</td>\n",
       "      <td>0</td>\n",
       "      <td>0</td>\n",
       "      <td>0</td>\n",
       "      <td>0</td>\n",
       "      <td>0</td>\n",
       "      <td>0</td>\n",
       "    </tr>\n",
       "  </tbody>\n",
       "</table>\n",
       "<p>5 rows × 96396 columns</p>\n",
       "</div>"
      ],
      "text/plain": [
       "   00  00 am  00 and  00 curfew  00 et  00 guess  00 the  00 tomorrow  000  \\\n",
       "0   0      0       0          0      0         0       0            0    0   \n",
       "1   0      0       0          0      0         0       0            0    0   \n",
       "2   0      0       0          0      0         0       0            0    0   \n",
       "3   0      0       0          0      0         0       0            0    0   \n",
       "4   0      0       0          0      0         0       0            0    0   \n",
       "\n",
       "   000 000   ...     제대로된  제대로된 태풍  진입안하고  진입안하고 왼쪽으로  태풍  태풍 오지도않았는데  허드슨리버쪽  \\\n",
       "0        0   ...        0        0      0           0   0           0       0   \n",
       "1        0   ...        0        0      0           0   0           0       0   \n",
       "2        0   ...        0        0      0           0   0           0       0   \n",
       "3        0   ...        0        0      0           0   0           0       0   \n",
       "4        0   ...        0        0      0           0   0           0       0   \n",
       "\n",
       "   허드슨리버쪽 동네는  허리케인  허리케인 ㅠㅠ  \n",
       "0           0     0        0  \n",
       "1           0     0        0  \n",
       "2           0     0        0  \n",
       "3           0     0        0  \n",
       "4           0     0        0  \n",
       "\n",
       "[5 rows x 96396 columns]"
      ]
     },
     "execution_count": 9,
     "metadata": {},
     "output_type": "execute_result"
    }
   ],
   "source": [
    "# checking this was done correctly\n",
    "cvec_df.head()"
   ]
  },
  {
   "cell_type": "code",
   "execution_count": 10,
   "metadata": {},
   "outputs": [
    {
     "data": {
      "text/plain": [
       "(10537, 96396)"
      ]
     },
     "execution_count": 10,
     "metadata": {},
     "output_type": "execute_result"
    }
   ],
   "source": [
    "cvec_df.shape"
   ]
  },
  {
   "cell_type": "code",
   "execution_count": 11,
   "metadata": {},
   "outputs": [],
   "source": [
    "# instantiating a DBSCAN model with default parameters\n",
    "db = DBSCAN()"
   ]
  },
  {
   "cell_type": "code",
   "execution_count": 12,
   "metadata": {},
   "outputs": [],
   "source": [
    "# creating a list of words that will indicate danger from a hurricane\n",
    "buzz_words = [\n",
    "    'help', 'please help', 'severe', 'damage', 'flood', 'unsafe',\n",
    "    'flooding', 'wind', 'power outage', 'danger', 'serious',\n",
    "    'destroyed', 'killed', 'need help', 'dead', 'emergency',\n",
    "    'major', 'major damage', 'help us', 'help me', 'lost power',\n",
    "    'no power', 'no food', 'strong wind', 'stuck', 'trapped',\n",
    "    'not safe', 'hurt', 'severe damage', 'destruction', 'in trouble',\n",
    "    'freezing', \"can't move\", 'bad', 'really bad', 'awful', 'very bad',\n",
    "    'dangerous', 'very dangerous', 'storm surge', 'heavy rain', 'damaging',\n",
    "    'drown', 'crushed', 'without power', 'devastating', 'underwater', 'under water',\n",
    "    'overwhelming', 'tree down', 'downed tree', 'destruction', 'leveled', 'knocked out',\n",
    "    'need shelter', 'fire', 'on fire', 'fucked', 'debris', 'catastrophe', \n",
    "]"
   ]
  },
  {
   "cell_type": "code",
   "execution_count": 13,
   "metadata": {},
   "outputs": [],
   "source": [
    "# checking each buzz word to make sure it appears at least once in the list of tweets\n",
    "for word in buzz_words:\n",
    "    try:\n",
    "        cvec_df[word]\n",
    "    \n",
    "    # if it doesn't, remove it from the list so as not to throw an error in modeling\n",
    "    except KeyError:\n",
    "        buzz_words.remove(word)"
   ]
  },
  {
   "cell_type": "code",
   "execution_count": 14,
   "metadata": {},
   "outputs": [
    {
     "data": {
      "text/plain": [
       "DBSCAN(algorithm='auto', eps=0.5, leaf_size=30, metric='euclidean',\n",
       "    metric_params=None, min_samples=5, n_jobs=None, p=None)"
      ]
     },
     "execution_count": 14,
     "metadata": {},
     "output_type": "execute_result"
    }
   ],
   "source": [
    "# fitting the DBSCAN model to the specific words provided \n",
    "db.fit(cvec_df[buzz_words])"
   ]
  },
  {
   "cell_type": "code",
   "execution_count": 15,
   "metadata": {},
   "outputs": [],
   "source": [
    "# generating a column that designates which cluster each tweet was sorted into\n",
    "tweets['danger'] = db.labels_"
   ]
  },
  {
   "cell_type": "code",
   "execution_count": 16,
   "metadata": {},
   "outputs": [
    {
     "data": {
      "text/plain": [
       "0.9844667057945236"
      ]
     },
     "execution_count": 16,
     "metadata": {},
     "output_type": "execute_result"
    }
   ],
   "source": [
    "# checking the silhouette score\n",
    "silhouette_score(cvec_df[buzz_words], db.labels_)"
   ]
  },
  {
   "cell_type": "markdown",
   "metadata": {},
   "source": [
    "Now that we have a way of measuring the amount of danger indicated by each tweet, we can take an average of all of the tweets in a given area to give us a general intensity of danger for each area."
   ]
  },
  {
   "cell_type": "code",
   "execution_count": 17,
   "metadata": {},
   "outputs": [],
   "source": [
    "# grouping all the tweets by the coordinate point which they were pulled from\n",
    "# generating an intensity ranking for each area based on the cluster labels provided in the DBSCAN model\n",
    "map_results = tweets.groupby(['latitude', 'longitude'])['danger'].mean()"
   ]
  },
  {
   "cell_type": "code",
   "execution_count": 18,
   "metadata": {},
   "outputs": [
    {
     "data": {
      "text/plain": [
       "latitude   longitude \n",
       "38.518698  -75.495134    3.833333\n",
       "38.518824  -75.667357    0.000000\n",
       "38.519077  -76.011804    2.166667\n",
       "38.519204  -76.184028    0.000000\n",
       "38.653446  -75.495134    1.285714\n",
       "Name: danger, dtype: float64"
      ]
     },
     "execution_count": 18,
     "metadata": {},
     "output_type": "execute_result"
    }
   ],
   "source": [
    "# checking the result\n",
    "map_results.head()"
   ]
  },
  {
   "cell_type": "code",
   "execution_count": 19,
   "metadata": {},
   "outputs": [
    {
     "data": {
      "text/html": [
       "<div>\n",
       "<style scoped>\n",
       "    .dataframe tbody tr th:only-of-type {\n",
       "        vertical-align: middle;\n",
       "    }\n",
       "\n",
       "    .dataframe tbody tr th {\n",
       "        vertical-align: top;\n",
       "    }\n",
       "\n",
       "    .dataframe thead th {\n",
       "        text-align: right;\n",
       "    }\n",
       "</style>\n",
       "<table border=\"1\" class=\"dataframe\">\n",
       "  <thead>\n",
       "    <tr style=\"text-align: right;\">\n",
       "      <th></th>\n",
       "      <th>latitude</th>\n",
       "      <th>longitude</th>\n",
       "      <th>danger</th>\n",
       "    </tr>\n",
       "  </thead>\n",
       "  <tbody>\n",
       "    <tr>\n",
       "      <th>0</th>\n",
       "      <td>38.518698</td>\n",
       "      <td>-75.495134</td>\n",
       "      <td>3.833333</td>\n",
       "    </tr>\n",
       "    <tr>\n",
       "      <th>1</th>\n",
       "      <td>38.518824</td>\n",
       "      <td>-75.667357</td>\n",
       "      <td>0.000000</td>\n",
       "    </tr>\n",
       "    <tr>\n",
       "      <th>2</th>\n",
       "      <td>38.519077</td>\n",
       "      <td>-76.011804</td>\n",
       "      <td>2.166667</td>\n",
       "    </tr>\n",
       "    <tr>\n",
       "      <th>3</th>\n",
       "      <td>38.519204</td>\n",
       "      <td>-76.184028</td>\n",
       "      <td>0.000000</td>\n",
       "    </tr>\n",
       "    <tr>\n",
       "      <th>4</th>\n",
       "      <td>38.653446</td>\n",
       "      <td>-75.495134</td>\n",
       "      <td>1.285714</td>\n",
       "    </tr>\n",
       "  </tbody>\n",
       "</table>\n",
       "</div>"
      ],
      "text/plain": [
       "    latitude  longitude    danger\n",
       "0  38.518698 -75.495134  3.833333\n",
       "1  38.518824 -75.667357  0.000000\n",
       "2  38.519077 -76.011804  2.166667\n",
       "3  38.519204 -76.184028  0.000000\n",
       "4  38.653446 -75.495134  1.285714"
      ]
     },
     "execution_count": 19,
     "metadata": {},
     "output_type": "execute_result"
    }
   ],
   "source": [
    "# converting the results to a dataframe\n",
    "map_results_df = pd.DataFrame(map_results)\n",
    "map_results_df.reset_index(inplace=True)\n",
    "map_results_df.head()"
   ]
  },
  {
   "cell_type": "markdown",
   "metadata": {},
   "source": [
    "Because we are going to need a set number of categories for ranking danger in order to create a map out of these results, we will need to turn the danger intensities into a discrete number of danger rankings. For our purposes, we determined that 5 categories from lower to higher damage would be ideal."
   ]
  },
  {
   "cell_type": "code",
   "execution_count": 20,
   "metadata": {},
   "outputs": [],
   "source": [
    "# a function to convert the danger intensity value to a number from 0 to 4\n",
    "def discrete_results(val):\n",
    "    \n",
    "    # round the value to the nearest integer\n",
    "    val = round(val)\n",
    "    \n",
    "    # group anything higher than 3 into the top category (4)\n",
    "    if val >= 4:\n",
    "        val = 4\n",
    "    \n",
    "    # return the discrete value\n",
    "    return val"
   ]
  },
  {
   "cell_type": "code",
   "execution_count": 21,
   "metadata": {},
   "outputs": [],
   "source": [
    "# implementing the function above on the results from our model\n",
    "map_results_df['danger'] = map_results_df['danger'].map(lambda val: discrete_results(val))"
   ]
  },
  {
   "cell_type": "code",
   "execution_count": 22,
   "metadata": {},
   "outputs": [
    {
     "data": {
      "text/html": [
       "<div>\n",
       "<style scoped>\n",
       "    .dataframe tbody tr th:only-of-type {\n",
       "        vertical-align: middle;\n",
       "    }\n",
       "\n",
       "    .dataframe tbody tr th {\n",
       "        vertical-align: top;\n",
       "    }\n",
       "\n",
       "    .dataframe thead th {\n",
       "        text-align: right;\n",
       "    }\n",
       "</style>\n",
       "<table border=\"1\" class=\"dataframe\">\n",
       "  <thead>\n",
       "    <tr style=\"text-align: right;\">\n",
       "      <th></th>\n",
       "      <th>latitude</th>\n",
       "      <th>longitude</th>\n",
       "      <th>danger</th>\n",
       "    </tr>\n",
       "  </thead>\n",
       "  <tbody>\n",
       "    <tr>\n",
       "      <th>0</th>\n",
       "      <td>38.518698</td>\n",
       "      <td>-75.495134</td>\n",
       "      <td>4</td>\n",
       "    </tr>\n",
       "    <tr>\n",
       "      <th>1</th>\n",
       "      <td>38.518824</td>\n",
       "      <td>-75.667357</td>\n",
       "      <td>0</td>\n",
       "    </tr>\n",
       "    <tr>\n",
       "      <th>2</th>\n",
       "      <td>38.519077</td>\n",
       "      <td>-76.011804</td>\n",
       "      <td>2</td>\n",
       "    </tr>\n",
       "    <tr>\n",
       "      <th>3</th>\n",
       "      <td>38.519204</td>\n",
       "      <td>-76.184028</td>\n",
       "      <td>0</td>\n",
       "    </tr>\n",
       "    <tr>\n",
       "      <th>4</th>\n",
       "      <td>38.653446</td>\n",
       "      <td>-75.495134</td>\n",
       "      <td>1</td>\n",
       "    </tr>\n",
       "    <tr>\n",
       "      <th>5</th>\n",
       "      <td>38.653572</td>\n",
       "      <td>-75.667357</td>\n",
       "      <td>0</td>\n",
       "    </tr>\n",
       "    <tr>\n",
       "      <th>6</th>\n",
       "      <td>38.653699</td>\n",
       "      <td>-75.839580</td>\n",
       "      <td>2</td>\n",
       "    </tr>\n",
       "    <tr>\n",
       "      <th>7</th>\n",
       "      <td>38.653825</td>\n",
       "      <td>-76.011804</td>\n",
       "      <td>0</td>\n",
       "    </tr>\n",
       "    <tr>\n",
       "      <th>8</th>\n",
       "      <td>38.788194</td>\n",
       "      <td>-75.495134</td>\n",
       "      <td>3</td>\n",
       "    </tr>\n",
       "    <tr>\n",
       "      <th>9</th>\n",
       "      <td>38.788320</td>\n",
       "      <td>-75.667357</td>\n",
       "      <td>1</td>\n",
       "    </tr>\n",
       "  </tbody>\n",
       "</table>\n",
       "</div>"
      ],
      "text/plain": [
       "    latitude  longitude  danger\n",
       "0  38.518698 -75.495134       4\n",
       "1  38.518824 -75.667357       0\n",
       "2  38.519077 -76.011804       2\n",
       "3  38.519204 -76.184028       0\n",
       "4  38.653446 -75.495134       1\n",
       "5  38.653572 -75.667357       0\n",
       "6  38.653699 -75.839580       2\n",
       "7  38.653825 -76.011804       0\n",
       "8  38.788194 -75.495134       3\n",
       "9  38.788320 -75.667357       1"
      ]
     },
     "execution_count": 22,
     "metadata": {},
     "output_type": "execute_result"
    }
   ],
   "source": [
    "# checking the result\n",
    "map_results_df.head(10)"
   ]
  },
  {
   "cell_type": "code",
   "execution_count": 23,
   "metadata": {},
   "outputs": [
    {
     "data": {
      "text/plain": [
       "0    53\n",
       "1    30\n",
       "2    27\n",
       "4    12\n",
       "3     7\n",
       "Name: danger, dtype: int64"
      ]
     },
     "execution_count": 23,
     "metadata": {},
     "output_type": "execute_result"
    }
   ],
   "source": [
    "# checking the distribution of the categories\n",
    "map_results_df['danger'].value_counts()"
   ]
  },
  {
   "cell_type": "code",
   "execution_count": 24,
   "metadata": {},
   "outputs": [],
   "source": [
    "# saving the results to a csv for mapping\n",
    "map_results_df.to_csv('./danger-intensity-by-location.csv')"
   ]
  }
 ],
 "metadata": {
  "kernelspec": {
   "display_name": "Python 3",
   "language": "python",
   "name": "python3"
  },
  "language_info": {
   "codemirror_mode": {
    "name": "ipython",
    "version": 3
   },
   "file_extension": ".py",
   "mimetype": "text/x-python",
   "name": "python",
   "nbconvert_exporter": "python",
   "pygments_lexer": "ipython3",
   "version": "3.6.7"
  }
 },
 "nbformat": 4,
 "nbformat_minor": 2
}
