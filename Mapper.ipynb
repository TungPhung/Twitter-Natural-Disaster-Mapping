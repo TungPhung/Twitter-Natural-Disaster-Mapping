{
 "cells": [
  {
   "cell_type": "markdown",
   "metadata": {
    "deletable": false,
    "editable": false,
    "run_control": {
     "frozen": true
    }
   },
   "source": [
    "# Mapper"
   ]
  },
  {
   "cell_type": "markdown",
   "metadata": {
    "deletable": false,
    "editable": false,
    "run_control": {
     "frozen": true
    }
   },
   "source": [
    "This component takes an array, csv, or anything set of lat/long coordinates as well as their associated intensity density and coverts to a Bokeh overlay on a google map."
   ]
  },
  {
   "cell_type": "markdown",
   "metadata": {
    "ExecuteTime": {
     "end_time": "2019-04-29T11:45:59.109265Z",
     "start_time": "2019-04-29T11:45:59.106153Z"
    },
    "deletable": false,
    "editable": false,
    "run_control": {
     "frozen": true
    }
   },
   "source": [
    "## Imports"
   ]
  },
  {
   "cell_type": "code",
   "execution_count": 1,
   "metadata": {
    "ExecuteTime": {
     "end_time": "2019-04-29T13:38:49.850426Z",
     "start_time": "2019-04-29T13:38:48.600658Z"
    },
    "scrolled": true
   },
   "outputs": [],
   "source": [
    "import os, sys\n",
    "import pandas as pd\n",
    "from config import * #Config File for API Key\n",
    "from bokeh.io import show, output_file\n",
    "import numpy as np\n",
    "from bokeh.models import (GMapPlot, GMapOptions, ColumnDataSource, Circle,  \n",
    "DataRange1d, PanTool, WheelZoomTool, BoxSelectTool, Range1d)"
   ]
  },
  {
   "cell_type": "markdown",
   "metadata": {
    "ExecuteTime": {
     "end_time": "2019-04-29T11:46:29.948343Z",
     "start_time": "2019-04-29T11:46:29.944616Z"
    }
   },
   "source": [
    "## Test Grid Only"
   ]
  },
  {
   "cell_type": "code",
   "execution_count": 2,
   "metadata": {
    "ExecuteTime": {
     "end_time": "2019-04-29T13:38:49.888059Z",
     "start_time": "2019-04-29T13:38:49.853903Z"
    }
   },
   "outputs": [],
   "source": [
    "test_grid = [(40.527428, -76.719904),\n",
    " (40.66217607430053, -76.719904),\n",
    " (40.79692414860107, -76.719904),\n",
    " (40.931672222901604, -76.719904),\n",
    " (40.52729204484159, -76.54262629794702),\n",
    " (40.66204011914212, -76.54262629794702),\n",
    " (40.79678819344265, -76.54262629794702),\n",
    " (40.93153626774318, -76.54262629794702),\n",
    " (40.527156090333946, -76.36534895551316),\n",
    " (40.66190416463448, -76.36534895551317),\n",
    " (40.79665223893502, -76.36534895551317),\n",
    " (40.93140031323556, -76.36534895551317),\n",
    " (40.52702013647707, -76.18807197269423),\n",
    " (40.6617682107776, -76.18807197269423),\n",
    " (40.796516285078134, -76.18807197269423),\n",
    " (40.93126435937867, -76.18807197269423),\n",
    " (40.526884183270944, -76.01079534948605),\n",
    " (40.66163225757148, -76.01079534948605),\n",
    " (40.796380331872015, -76.01079534948605),\n",
    " (40.93112840617255, -76.01079534948605),\n",
    " (40.52674823071558, -75.83351908588443),\n",
    " (40.661496305016115, -75.83351908588443)]"
   ]
  },
  {
   "cell_type": "code",
   "execution_count": 3,
   "metadata": {
    "ExecuteTime": {
     "end_time": "2019-04-29T13:38:49.905366Z",
     "start_time": "2019-04-29T13:38:49.895259Z"
    }
   },
   "outputs": [],
   "source": [
    "#Convert into test grid into data frame.\n",
    "df = pd.DataFrame(test_grid, columns=['lat', 'long'])"
   ]
  },
  {
   "cell_type": "markdown",
   "metadata": {},
   "source": [
    "## Read in data by CSV"
   ]
  },
  {
   "cell_type": "code",
   "execution_count": 4,
   "metadata": {
    "ExecuteTime": {
     "end_time": "2019-04-29T13:38:49.944338Z",
     "start_time": "2019-04-29T13:38:49.910457Z"
    }
   },
   "outputs": [],
   "source": [
    "#Read in csv\n",
    "df2 = pd.read_csv('./example/danger-intensity-by-location.csv')"
   ]
  },
  {
   "cell_type": "code",
   "execution_count": 5,
   "metadata": {
    "ExecuteTime": {
     "end_time": "2019-04-29T13:38:49.971355Z",
     "start_time": "2019-04-29T13:38:49.950089Z"
    }
   },
   "outputs": [
    {
     "data": {
      "text/plain": [
       "Index(['Unnamed: 0', 'latitude', 'longitude', 'danger'], dtype='object')"
      ]
     },
     "execution_count": 5,
     "metadata": {},
     "output_type": "execute_result"
    }
   ],
   "source": [
    "df2.columns"
   ]
  },
  {
   "cell_type": "code",
   "execution_count": 6,
   "metadata": {
    "ExecuteTime": {
     "end_time": "2019-04-29T13:38:49.993150Z",
     "start_time": "2019-04-29T13:38:49.977056Z"
    },
    "scrolled": true
   },
   "outputs": [],
   "source": [
    "#Drop Extra Column\n",
    "df2 = df2.drop('Unnamed: 0', axis=1)"
   ]
  },
  {
   "cell_type": "code",
   "execution_count": 7,
   "metadata": {
    "ExecuteTime": {
     "end_time": "2019-04-29T13:38:50.005704Z",
     "start_time": "2019-04-29T13:38:49.998766Z"
    }
   },
   "outputs": [],
   "source": [
    "#Name columns for easy access\n",
    "df2.columns = ['lat', 'long', 'intensity']"
   ]
  },
  {
   "cell_type": "code",
   "execution_count": 8,
   "metadata": {
    "ExecuteTime": {
     "end_time": "2019-04-29T13:38:50.020925Z",
     "start_time": "2019-04-29T13:38:50.009151Z"
    }
   },
   "outputs": [],
   "source": [
    "#Define radius size of each circle for each array\n",
    "df2['size'] = 7.5\n",
    "df['size'] = 7.5"
   ]
  },
  {
   "cell_type": "code",
   "execution_count": 9,
   "metadata": {
    "ExecuteTime": {
     "end_time": "2019-04-29T13:38:50.035408Z",
     "start_time": "2019-04-29T13:38:50.024638Z"
    }
   },
   "outputs": [],
   "source": [
    "#Randomize some intensities between 0 and 4 inclusive for the test_grid\n",
    "df['intensity'] = np.random.randint(0, 5, df.shape[0])"
   ]
  },
  {
   "cell_type": "code",
   "execution_count": 10,
   "metadata": {
    "ExecuteTime": {
     "end_time": "2019-04-29T13:38:50.066530Z",
     "start_time": "2019-04-29T13:38:50.041178Z"
    },
    "scrolled": true
   },
   "outputs": [
    {
     "data": {
      "text/html": [
       "<div>\n",
       "<style scoped>\n",
       "    .dataframe tbody tr th:only-of-type {\n",
       "        vertical-align: middle;\n",
       "    }\n",
       "\n",
       "    .dataframe tbody tr th {\n",
       "        vertical-align: top;\n",
       "    }\n",
       "\n",
       "    .dataframe thead th {\n",
       "        text-align: right;\n",
       "    }\n",
       "</style>\n",
       "<table border=\"1\" class=\"dataframe\">\n",
       "  <thead>\n",
       "    <tr style=\"text-align: right;\">\n",
       "      <th></th>\n",
       "      <th>lat</th>\n",
       "      <th>long</th>\n",
       "      <th>size</th>\n",
       "      <th>intensity</th>\n",
       "    </tr>\n",
       "  </thead>\n",
       "  <tbody>\n",
       "    <tr>\n",
       "      <th>0</th>\n",
       "      <td>40.527428</td>\n",
       "      <td>-76.719904</td>\n",
       "      <td>7.5</td>\n",
       "      <td>1</td>\n",
       "    </tr>\n",
       "    <tr>\n",
       "      <th>1</th>\n",
       "      <td>40.662176</td>\n",
       "      <td>-76.719904</td>\n",
       "      <td>7.5</td>\n",
       "      <td>3</td>\n",
       "    </tr>\n",
       "    <tr>\n",
       "      <th>2</th>\n",
       "      <td>40.796924</td>\n",
       "      <td>-76.719904</td>\n",
       "      <td>7.5</td>\n",
       "      <td>2</td>\n",
       "    </tr>\n",
       "    <tr>\n",
       "      <th>3</th>\n",
       "      <td>40.931672</td>\n",
       "      <td>-76.719904</td>\n",
       "      <td>7.5</td>\n",
       "      <td>1</td>\n",
       "    </tr>\n",
       "    <tr>\n",
       "      <th>4</th>\n",
       "      <td>40.527292</td>\n",
       "      <td>-76.542626</td>\n",
       "      <td>7.5</td>\n",
       "      <td>1</td>\n",
       "    </tr>\n",
       "  </tbody>\n",
       "</table>\n",
       "</div>"
      ],
      "text/plain": [
       "         lat       long  size  intensity\n",
       "0  40.527428 -76.719904   7.5          1\n",
       "1  40.662176 -76.719904   7.5          3\n",
       "2  40.796924 -76.719904   7.5          2\n",
       "3  40.931672 -76.719904   7.5          1\n",
       "4  40.527292 -76.542626   7.5          1"
      ]
     },
     "execution_count": 10,
     "metadata": {},
     "output_type": "execute_result"
    }
   ],
   "source": [
    "df.head()"
   ]
  },
  {
   "cell_type": "markdown",
   "metadata": {
    "ExecuteTime": {
     "end_time": "2019-04-29T11:50:11.098928Z",
     "start_time": "2019-04-29T11:50:11.095351Z"
    }
   },
   "source": [
    "## Mapping"
   ]
  },
  {
   "cell_type": "code",
   "execution_count": 11,
   "metadata": {
    "ExecuteTime": {
     "end_time": "2019-04-29T13:38:50.079502Z",
     "start_time": "2019-04-29T13:38:50.069580Z"
    }
   },
   "outputs": [],
   "source": [
    "#Create GMapOptions object with map zoom\n",
    "map_options = GMapOptions(lat = df2['lat'].mean(), lng = df2['long'].mean(), map_type='roadmap', zoom=8)"
   ]
  },
  {
   "cell_type": "code",
   "execution_count": 12,
   "metadata": {
    "ExecuteTime": {
     "end_time": "2019-04-29T13:38:50.090893Z",
     "start_time": "2019-04-29T13:38:50.084486Z"
    }
   },
   "outputs": [],
   "source": [
    "#Import API Key\n",
    "sys.path.append(os.path.abspath(\"/Users/BallistixMAC/DSI/Experimental/\"))\n",
    "api_key = os.environ['APIKey']"
   ]
  },
  {
   "cell_type": "code",
   "execution_count": 13,
   "metadata": {
    "ExecuteTime": {
     "end_time": "2019-04-29T13:38:50.101058Z",
     "start_time": "2019-04-29T13:38:50.094177Z"
    }
   },
   "outputs": [],
   "source": [
    "#Plot with GmapOptions\n",
    "plot = GMapPlot(x_range = Range1d(), y_range = Range1d(), map_options = map_options, api_key = api_key)"
   ]
  },
  {
   "cell_type": "code",
   "execution_count": 14,
   "metadata": {
    "ExecuteTime": {
     "end_time": "2019-04-29T13:38:50.113406Z",
     "start_time": "2019-04-29T13:38:50.104998Z"
    }
   },
   "outputs": [],
   "source": [
    "#Add tools\n",
    "plot.add_tools(PanTool(), WheelZoomTool(), BoxSelectTool())"
   ]
  },
  {
   "cell_type": "code",
   "execution_count": 15,
   "metadata": {
    "ExecuteTime": {
     "end_time": "2019-04-29T13:38:50.464813Z",
     "start_time": "2019-04-29T13:38:50.116380Z"
    }
   },
   "outputs": [],
   "source": [
    "#Re-range intensity to 1-5 (0 was causing 0 radiuses)\n",
    "df2['intensity'] = df2['intensity'] + 1"
   ]
  },
  {
   "cell_type": "code",
   "execution_count": 16,
   "metadata": {
    "ExecuteTime": {
     "end_time": "2019-04-29T13:38:50.473095Z",
     "start_time": "2019-04-29T13:38:50.467468Z"
    }
   },
   "outputs": [],
   "source": [
    "#Define color palette with hex codes - red is most extreme indicators going towards green with fewer\n",
    "color_list = {5:'#ff0000', 4:'#ff8000', 3:'#ffff00', 2:'#80ff00', 1:'#00ff00'}\n",
    "color_final = []\n",
    "for i in df2['intensity'].to_list():\n",
    "    color_final.append(color_list[i])"
   ]
  },
  {
   "cell_type": "code",
   "execution_count": 17,
   "metadata": {
    "ExecuteTime": {
     "end_time": "2019-04-29T13:38:50.483596Z",
     "start_time": "2019-04-29T13:38:50.476368Z"
    }
   },
   "outputs": [],
   "source": [
    "#Plot points\n",
    "source = ColumnDataSource(data=dict(lat=df2['lat'].to_list(), lon=df2['long'].to_list(),\n",
    "                                    rad=[i*10 for i in df2['intensity'].to_list()], color=color_final))"
   ]
  },
  {
   "cell_type": "code",
   "execution_count": 18,
   "metadata": {
    "ExecuteTime": {
     "end_time": "2019-04-29T13:38:50.505990Z",
     "start_time": "2019-04-29T13:38:50.498883Z"
    }
   },
   "outputs": [],
   "source": [
    "#Plot radius circles\n",
    "circle = Circle(x=\"lon\", y = 'lat', size='rad', fill_color='color', fill_alpha=0.7)"
   ]
  },
  {
   "cell_type": "code",
   "execution_count": 19,
   "metadata": {
    "ExecuteTime": {
     "end_time": "2019-04-29T13:38:50.527083Z",
     "start_time": "2019-04-29T13:38:50.517403Z"
    }
   },
   "outputs": [
    {
     "data": {
      "text/html": [
       "<div style=\"display: table;\"><div style=\"display: table-row;\"><div style=\"display: table-cell;\"><b title=\"bokeh.models.renderers.GlyphRenderer\">GlyphRenderer</b>(</div><div style=\"display: table-cell;\">id&nbsp;=&nbsp;'1017', <span id=\"1020\" style=\"cursor: pointer;\">&hellip;)</span></div></div><div class=\"1019\" style=\"display: none;\"><div style=\"display: table-cell;\"></div><div style=\"display: table-cell;\">data_source&nbsp;=&nbsp;ColumnDataSource(id='1015', ...),</div></div><div class=\"1019\" style=\"display: none;\"><div style=\"display: table-cell;\"></div><div style=\"display: table-cell;\">glyph&nbsp;=&nbsp;Circle(id='1016', ...),</div></div><div class=\"1019\" style=\"display: none;\"><div style=\"display: table-cell;\"></div><div style=\"display: table-cell;\">hover_glyph&nbsp;=&nbsp;None,</div></div><div class=\"1019\" style=\"display: none;\"><div style=\"display: table-cell;\"></div><div style=\"display: table-cell;\">js_event_callbacks&nbsp;=&nbsp;{},</div></div><div class=\"1019\" style=\"display: none;\"><div style=\"display: table-cell;\"></div><div style=\"display: table-cell;\">js_property_callbacks&nbsp;=&nbsp;{},</div></div><div class=\"1019\" style=\"display: none;\"><div style=\"display: table-cell;\"></div><div style=\"display: table-cell;\">level&nbsp;=&nbsp;'glyph',</div></div><div class=\"1019\" style=\"display: none;\"><div style=\"display: table-cell;\"></div><div style=\"display: table-cell;\">muted&nbsp;=&nbsp;False,</div></div><div class=\"1019\" style=\"display: none;\"><div style=\"display: table-cell;\"></div><div style=\"display: table-cell;\">muted_glyph&nbsp;=&nbsp;None,</div></div><div class=\"1019\" style=\"display: none;\"><div style=\"display: table-cell;\"></div><div style=\"display: table-cell;\">name&nbsp;=&nbsp;None,</div></div><div class=\"1019\" style=\"display: none;\"><div style=\"display: table-cell;\"></div><div style=\"display: table-cell;\">nonselection_glyph&nbsp;=&nbsp;'auto',</div></div><div class=\"1019\" style=\"display: none;\"><div style=\"display: table-cell;\"></div><div style=\"display: table-cell;\">selection_glyph&nbsp;=&nbsp;'auto',</div></div><div class=\"1019\" style=\"display: none;\"><div style=\"display: table-cell;\"></div><div style=\"display: table-cell;\">subscribed_events&nbsp;=&nbsp;[],</div></div><div class=\"1019\" style=\"display: none;\"><div style=\"display: table-cell;\"></div><div style=\"display: table-cell;\">tags&nbsp;=&nbsp;[],</div></div><div class=\"1019\" style=\"display: none;\"><div style=\"display: table-cell;\"></div><div style=\"display: table-cell;\">view&nbsp;=&nbsp;CDSView(id='1018', ...),</div></div><div class=\"1019\" style=\"display: none;\"><div style=\"display: table-cell;\"></div><div style=\"display: table-cell;\">visible&nbsp;=&nbsp;True,</div></div><div class=\"1019\" style=\"display: none;\"><div style=\"display: table-cell;\"></div><div style=\"display: table-cell;\">x_range_name&nbsp;=&nbsp;'default',</div></div><div class=\"1019\" style=\"display: none;\"><div style=\"display: table-cell;\"></div><div style=\"display: table-cell;\">y_range_name&nbsp;=&nbsp;'default')</div></div></div>\n",
       "<script>\n",
       "(function() {\n",
       "  var expanded = false;\n",
       "  var ellipsis = document.getElementById(\"1020\");\n",
       "  ellipsis.addEventListener(\"click\", function() {\n",
       "    var rows = document.getElementsByClassName(\"1019\");\n",
       "    for (var i = 0; i < rows.length; i++) {\n",
       "      var el = rows[i];\n",
       "      el.style.display = expanded ? \"none\" : \"table-row\";\n",
       "    }\n",
       "    ellipsis.innerHTML = expanded ? \"&hellip;)\" : \"&lsaquo;&lsaquo;&lsaquo;\";\n",
       "    expanded = !expanded;\n",
       "  });\n",
       "})();\n",
       "</script>\n"
      ],
      "text/plain": [
       "GlyphRenderer(id='1017', ...)"
      ]
     },
     "execution_count": 19,
     "metadata": {},
     "output_type": "execute_result"
    }
   ],
   "source": [
    "#Add to GMap\n",
    "plot.add_glyph(source,circle)"
   ]
  },
  {
   "cell_type": "markdown",
   "metadata": {},
   "source": [
    "## Output as html and show plot in notebook"
   ]
  },
  {
   "cell_type": "code",
   "execution_count": 20,
   "metadata": {
    "ExecuteTime": {
     "end_time": "2019-04-29T13:38:54.011267Z",
     "start_time": "2019-04-29T13:38:53.253447Z"
    },
    "scrolled": true
   },
   "outputs": [],
   "source": [
    "output_file('USA_plot.html')\n",
    "show(plot)"
   ]
  }
 ],
 "metadata": {
  "kernelspec": {
   "display_name": "Python 3",
   "language": "python",
   "name": "python3"
  },
  "language_info": {
   "codemirror_mode": {
    "name": "ipython",
    "version": 3
   },
   "file_extension": ".py",
   "mimetype": "text/x-python",
   "name": "python",
   "nbconvert_exporter": "python",
   "pygments_lexer": "ipython3",
   "version": "3.7.2"
  },
  "varInspector": {
   "cols": {
    "lenName": 16,
    "lenType": 16,
    "lenVar": 40
   },
   "kernels_config": {
    "python": {
     "delete_cmd_postfix": "",
     "delete_cmd_prefix": "del ",
     "library": "var_list.py",
     "varRefreshCmd": "print(var_dic_list())"
    },
    "r": {
     "delete_cmd_postfix": ") ",
     "delete_cmd_prefix": "rm(",
     "library": "var_list.r",
     "varRefreshCmd": "cat(var_dic_list()) "
    }
   },
   "types_to_exclude": [
    "module",
    "function",
    "builtin_function_or_method",
    "instance",
    "_Feature"
   ],
   "window_display": false
  }
 },
 "nbformat": 4,
 "nbformat_minor": 2
}
