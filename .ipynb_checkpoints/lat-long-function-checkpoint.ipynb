{
 "cells": [
  {
   "cell_type": "code",
   "execution_count": 18,
   "metadata": {
    "ExecuteTime": {
     "end_time": "2019-04-22T23:30:59.298745Z",
     "start_time": "2019-04-22T23:30:59.277508Z"
    }
   },
   "outputs": [],
   "source": [
    "import math\n",
    "import matplotlib.pyplot as plt"
   ]
  },
  {
   "cell_type": "code",
   "execution_count": 19,
   "metadata": {
    "ExecuteTime": {
     "end_time": "2019-04-22T23:30:59.332071Z",
     "start_time": "2019-04-22T23:30:59.303960Z"
    }
   },
   "outputs": [],
   "source": [
    "# This code has been adapted from stackoverflow.com\n",
    "def adj_grid_point(lat, lon, brng, d):\n",
    "    R = 6378.1 #Radius of the Earth\n",
    "\n",
    "    #lat2  52.20444 - the lat result I'm hoping for\n",
    "    #lon2  0.36056 - the long result I'm hoping for.\n",
    "\n",
    "    lat1 = math.radians(lat) #Current lat point converted to radians\n",
    "    lon1 = math.radians(lon) #Current long point converted to radians\n",
    "\n",
    "    lat2 = math.asin( math.sin(lat1)*math.cos(d/R) +\n",
    "         math.cos(lat1)*math.sin(d/R)*math.cos(brng))\n",
    "\n",
    "    lon2 = lon1 + math.atan2(math.sin(brng)*math.sin(d/R)*math.cos(lat1),\n",
    "                 math.cos(d/R)-math.sin(lat1)*math.sin(lat2))\n",
    "\n",
    "    lat2 = math.degrees(lat2)\n",
    "    lon2 = math.degrees(lon2)\n",
    "    \n",
    "    return lat2, lon2"
   ]
  },
  {
   "cell_type": "code",
   "execution_count": 20,
   "metadata": {
    "ExecuteTime": {
     "end_time": "2019-04-22T23:30:59.360072Z",
     "start_time": "2019-04-22T23:30:59.334394Z"
    }
   },
   "outputs": [
    {
     "data": {
      "text/plain": [
       "(40.744953798297296, -73.80443344376857)"
      ]
     },
     "execution_count": 20,
     "metadata": {},
     "output_type": "execute_result"
    }
   ],
   "source": [
    "adj_grid_point(40.744983, -73.982290, 1.57, 15)"
   ]
  },
  {
   "cell_type": "code",
   "execution_count": 21,
   "metadata": {
    "ExecuteTime": {
     "end_time": "2019-04-22T23:30:59.379224Z",
     "start_time": "2019-04-22T23:30:59.365467Z"
    }
   },
   "outputs": [],
   "source": [
    "# this function returns a line of equidistant coordinate points in the form of a list\n",
    "def grid_centers_line(lat, lon, length, distance):\n",
    "    start = (lat, lon)\n",
    "    coordinates = [start]\n",
    "    for i in range(1, length):\n",
    "        new_coordinates = adj_grid_point(lat, lon, 0, distance)\n",
    "        coordinates.append(new_coordinates)\n",
    "        lat, lon = new_coordinates\n",
    "        \n",
    "    return coordinates"
   ]
  },
  {
   "cell_type": "code",
   "execution_count": 22,
   "metadata": {
    "ExecuteTime": {
     "end_time": "2019-04-22T23:30:59.394094Z",
     "start_time": "2019-04-22T23:30:59.383034Z"
    }
   },
   "outputs": [
    {
     "data": {
      "text/plain": [
       "[(40.744983, -73.98229),\n",
       " (40.87973107430053, -73.98229),\n",
       " (41.01447914860106, -73.98229),\n",
       " (41.1492272229016, -73.98229),\n",
       " (41.28397529720214, -73.98229)]"
      ]
     },
     "execution_count": 22,
     "metadata": {},
     "output_type": "execute_result"
    }
   ],
   "source": [
    "grid_centers_line(40.744983, -73.982290, 5, 15)"
   ]
  },
  {
   "cell_type": "code",
   "execution_count": 23,
   "metadata": {
    "ExecuteTime": {
     "end_time": "2019-04-22T23:30:59.410278Z",
     "start_time": "2019-04-22T23:30:59.397372Z"
    }
   },
   "outputs": [],
   "source": [
    "# this function returns a grid of equidistant coordinate points in the form of a list\n",
    "def make_grid(lat, lon, length, width, distance):\n",
    "    grid = grid_centers_line(lat, lon, length, distance)\n",
    "    for i in range(1, width):\n",
    "        start = adj_grid_point(lat, lon, 1.5708, distance)\n",
    "        grid.extend(grid_centers_line(start[0], start[1], length, distance))\n",
    "        lat, lon = start\n",
    "        \n",
    "    return grid"
   ]
  },
  {
   "cell_type": "code",
   "execution_count": 26,
   "metadata": {
    "ExecuteTime": {
     "end_time": "2019-04-22T23:31:21.833971Z",
     "start_time": "2019-04-22T23:31:21.828867Z"
    }
   },
   "outputs": [],
   "source": [
    "grid = make_grid(40.601962, -73.973578, 4, 15, 15)"
   ]
  },
  {
   "cell_type": "code",
   "execution_count": 27,
   "metadata": {
    "ExecuteTime": {
     "end_time": "2019-04-22T23:31:24.060595Z",
     "start_time": "2019-04-22T23:31:24.052675Z"
    }
   },
   "outputs": [
    {
     "data": {
      "text/plain": [
       "[(40.601962, -73.973578),\n",
       " (40.73671007430053, -73.973578),\n",
       " (40.87145814860107, -73.973578),\n",
       " (41.006206222901604, -73.973578),\n",
       " (40.60182568767523, -73.79610277535537),\n",
       " (40.73657376197577, -73.79610277535537),\n",
       " (40.8713218362763, -73.79610277535537),\n",
       " (41.00606991057684, -73.79610277535537),\n",
       " (40.6016893760044, -73.61862791262806),\n",
       " (40.73643745030495, -73.61862791262806),\n",
       " (40.87118552460549, -73.61862791262806),\n",
       " (41.00593359890602, -73.61862791262806),\n",
       " (40.6015530649875, -73.4411534118139),\n",
       " (40.736301139288045, -73.4411534118139),\n",
       " (40.87104921358858, -73.4411534118139),\n",
       " (41.005797287889116, -73.4411534118139)]"
      ]
     },
     "execution_count": 27,
     "metadata": {},
     "output_type": "execute_result"
    }
   ],
   "source": [
    "grid"
   ]
  },
  {
   "cell_type": "code",
   "execution_count": null,
   "metadata": {},
   "outputs": [],
   "source": []
  },
  {
   "cell_type": "code",
   "execution_count": 8,
   "metadata": {
    "ExecuteTime": {
     "end_time": "2019-04-22T18:14:11.417000Z",
     "start_time": "2019-04-22T18:14:10.983356Z"
    },
    "scrolled": true
   },
   "outputs": [
    {
     "data": {
      "text/plain": [
       "<matplotlib.collections.PathCollection at 0x1188e4390>"
      ]
     },
     "execution_count": 8,
     "metadata": {},
     "output_type": "execute_result"
    },
    {
     "data": {
      "image/png": "[encoded data removed]",
      "text/plain": [
       "<Figure size 432x288 with 1 Axes>"
      ]
     },
     "metadata": {
      "needs_background": "light"
     },
     "output_type": "display_data"
    }
   ],
   "source": [
    "x = []\n",
    "y = []\n",
    "for coordinate in grid:\n",
    "    x.append(coordinate[0])\n",
    "    y.append(coordinate[1])\n",
    "plt.scatter(x, y)"
   ]
  },
  {
   "cell_type": "code",
   "execution_count": null,
   "metadata": {},
   "outputs": [],
   "source": []
  },
  {
   "cell_type": "code",
   "execution_count": null,
   "metadata": {},
   "outputs": [],
   "source": []
  },
  {
   "cell_type": "code",
   "execution_count": null,
   "metadata": {},
   "outputs": [],
   "source": []
  }
 ],
 "metadata": {
  "kernelspec": {
   "display_name": "Python 3",
   "language": "python",
   "name": "python3"
  },
  "language_info": {
   "codemirror_mode": {
    "name": "ipython",
    "version": 3
   },
   "file_extension": ".py",
   "mimetype": "text/x-python",
   "name": "python",
   "nbconvert_exporter": "python",
   "pygments_lexer": "ipython3",
   "version": "3.7.2"
  },
  "varInspector": {
   "cols": {
    "lenName": 16,
    "lenType": 16,
    "lenVar": 40
   },
   "kernels_config": {
    "python": {
     "delete_cmd_postfix": "",
     "delete_cmd_prefix": "del ",
     "library": "var_list.py",
     "varRefreshCmd": "print(var_dic_list())"
    },
    "r": {
     "delete_cmd_postfix": ") ",
     "delete_cmd_prefix": "rm(",
     "library": "var_list.r",
     "varRefreshCmd": "cat(var_dic_list()) "
    }
   },
   "types_to_exclude": [
    "module",
    "function",
    "builtin_function_or_method",
    "instance",
    "_Feature"
   ],
   "window_display": false
  }
 },
 "nbformat": 4,
 "nbformat_minor": 2
}
