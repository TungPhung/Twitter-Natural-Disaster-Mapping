{
 "cells": [
  {
   "cell_type": "markdown",
   "metadata": {
    "ExecuteTime": {
     "end_time": "2019-04-23T19:24:21.302550Z",
     "start_time": "2019-04-23T19:24:21.298777Z"
    },
    "deletable": false,
    "editable": false,
    "run_control": {
     "frozen": true
    }
   },
   "source": [
    "## Imports"
   ]
  },
  {
   "cell_type": "code",
   "execution_count": 1,
   "metadata": {
    "ExecuteTime": {
     "end_time": "2019-04-29T12:02:44.355758Z",
     "start_time": "2019-04-29T12:02:43.765873Z"
    },
    "deletable": false,
    "editable": false,
    "run_control": {
     "frozen": true
    }
   },
   "outputs": [],
   "source": [
    "import numpy as np\n",
    "import pandas as pd\n",
    "import json\n",
    "from pandas.io.json import json_normalize"
   ]
  },
  {
   "cell_type": "markdown",
   "metadata": {
    "deletable": false,
    "editable": false,
    "run_control": {
     "frozen": true
    }
   },
   "source": [
    "## Functions"
   ]
  },
  {
   "cell_type": "code",
   "execution_count": 2,
   "metadata": {
    "ExecuteTime": {
     "end_time": "2019-04-29T12:02:44.421536Z",
     "start_time": "2019-04-29T12:02:44.410786Z"
    },
    "deletable": false,
    "editable": false,
    "run_control": {
     "frozen": true
    }
   },
   "outputs": [],
   "source": [
    "def read_json(path): #Returns dataframe of json values\n",
    "    data = []\n",
    "    with open(path) as f:\n",
    "        for line in f:\n",
    "            data.append(json.loads(line))\n",
    "    df = pd.DataFrame.from_dict(json_normalize(data), orient='columns')\n",
    "    return df"
   ]
  },
  {
   "cell_type": "markdown",
   "metadata": {
    "deletable": false,
    "editable": false,
    "run_control": {
     "frozen": true
    }
   },
   "source": [
    "## Test"
   ]
  },
  {
   "cell_type": "code",
   "execution_count": 3,
   "metadata": {
    "ExecuteTime": {
     "end_time": "2019-04-29T12:02:46.692182Z",
     "start_time": "2019-04-29T12:02:45.135984Z"
    },
    "deletable": false,
    "editable": false,
    "run_control": {
     "frozen": true
    }
   },
   "outputs": [],
   "source": [
    "#Test on json twitter dataset found on internet\n",
    "wildfires = read_json('./example/california_wildfires_final_data.json')"
   ]
  },
  {
   "cell_type": "markdown",
   "metadata": {
    "deletable": false,
    "editable": false,
    "run_control": {
     "frozen": true
    }
   },
   "source": [
    "## Results"
   ]
  },
  {
   "cell_type": "code",
   "execution_count": 4,
   "metadata": {
    "ExecuteTime": {
     "end_time": "2019-04-29T12:02:49.873051Z",
     "start_time": "2019-04-29T12:02:49.814552Z"
    },
    "deletable": false,
    "editable": false,
    "run_control": {
     "frozen": true
    },
    "scrolled": false
   },
   "outputs": [
    {
     "data": {
      "text/html": [
       "<div>\n",
       "<style scoped>\n",
       "    .dataframe tbody tr th:only-of-type {\n",
       "        vertical-align: middle;\n",
       "    }\n",
       "\n",
       "    .dataframe tbody tr th {\n",
       "        vertical-align: top;\n",
       "    }\n",
       "\n",
       "    .dataframe thead th {\n",
       "        text-align: right;\n",
       "    }\n",
       "</style>\n",
       "<table border=\"1\" class=\"dataframe\">\n",
       "  <thead>\n",
       "    <tr style=\"text-align: right;\">\n",
       "      <th></th>\n",
       "      <th>aidr.crisis_code</th>\n",
       "      <th>aidr.crisis_name</th>\n",
       "      <th>aidr.doctype</th>\n",
       "      <th>aidr.features</th>\n",
       "      <th>aidr.nominal_labels</th>\n",
       "      <th>contributors</th>\n",
       "      <th>coordinates</th>\n",
       "      <th>created_at</th>\n",
       "      <th>display_text_range</th>\n",
       "      <th>entities.hashtags</th>\n",
       "      <th>...</th>\n",
       "      <th>user.profile_text_color</th>\n",
       "      <th>user.profile_use_background_image</th>\n",
       "      <th>user.protected</th>\n",
       "      <th>user.screen_name</th>\n",
       "      <th>user.statuses_count</th>\n",
       "      <th>user.time_zone</th>\n",
       "      <th>user.translator_type</th>\n",
       "      <th>user.url</th>\n",
       "      <th>user.utc_offset</th>\n",
       "      <th>user.verified</th>\n",
       "    </tr>\n",
       "  </thead>\n",
       "  <tbody>\n",
       "    <tr>\n",
       "      <th>0</th>\n",
       "      <td>171010201055_california_wildfire_2017</td>\n",
       "      <td>California Wildfire 2017</td>\n",
       "      <td>twitter</td>\n",
       "      <td>NaN</td>\n",
       "      <td>NaN</td>\n",
       "      <td>None</td>\n",
       "      <td>None</td>\n",
       "      <td>Tue Oct 10 16:37:11 +0000 2017</td>\n",
       "      <td>[0, 67]</td>\n",
       "      <td>[]</td>\n",
       "      <td>...</td>\n",
       "      <td>333333</td>\n",
       "      <td>True</td>\n",
       "      <td>False</td>\n",
       "      <td>WMTWTV</td>\n",
       "      <td>159458</td>\n",
       "      <td>Eastern Time (US &amp; Canada)</td>\n",
       "      <td>none</td>\n",
       "      <td>http://wmtw.com</td>\n",
       "      <td>-14400.0</td>\n",
       "      <td>True</td>\n",
       "    </tr>\n",
       "    <tr>\n",
       "      <th>1</th>\n",
       "      <td>171010201055_california_wildfire_2017</td>\n",
       "      <td>California Wildfire 2017</td>\n",
       "      <td>twitter</td>\n",
       "      <td>NaN</td>\n",
       "      <td>NaN</td>\n",
       "      <td>None</td>\n",
       "      <td>None</td>\n",
       "      <td>Tue Oct 10 16:36:51 +0000 2017</td>\n",
       "      <td>NaN</td>\n",
       "      <td>[]</td>\n",
       "      <td>...</td>\n",
       "      <td>050505</td>\n",
       "      <td>True</td>\n",
       "      <td>False</td>\n",
       "      <td>Kirkdify</td>\n",
       "      <td>23099</td>\n",
       "      <td>Pacific Time (US &amp; Canada)</td>\n",
       "      <td>none</td>\n",
       "      <td>None</td>\n",
       "      <td>-25200.0</td>\n",
       "      <td>False</td>\n",
       "    </tr>\n",
       "    <tr>\n",
       "      <th>2</th>\n",
       "      <td>171010201055_california_wildfire_2017</td>\n",
       "      <td>California Wildfire 2017</td>\n",
       "      <td>twitter</td>\n",
       "      <td>NaN</td>\n",
       "      <td>NaN</td>\n",
       "      <td>None</td>\n",
       "      <td>None</td>\n",
       "      <td>Tue Oct 10 16:37:50 +0000 2017</td>\n",
       "      <td>NaN</td>\n",
       "      <td>[]</td>\n",
       "      <td>...</td>\n",
       "      <td>333333</td>\n",
       "      <td>True</td>\n",
       "      <td>False</td>\n",
       "      <td>AMEalerts</td>\n",
       "      <td>3306</td>\n",
       "      <td>Central Time (US &amp; Canada)</td>\n",
       "      <td>none</td>\n",
       "      <td>http://alertsmadeeasy.com</td>\n",
       "      <td>-18000.0</td>\n",
       "      <td>False</td>\n",
       "    </tr>\n",
       "    <tr>\n",
       "      <th>3</th>\n",
       "      <td>171010201055_california_wildfire_2017</td>\n",
       "      <td>California Wildfire 2017</td>\n",
       "      <td>twitter</td>\n",
       "      <td>NaN</td>\n",
       "      <td>NaN</td>\n",
       "      <td>None</td>\n",
       "      <td>None</td>\n",
       "      <td>Tue Oct 10 16:41:01 +0000 2017</td>\n",
       "      <td>NaN</td>\n",
       "      <td>[]</td>\n",
       "      <td>...</td>\n",
       "      <td>000000</td>\n",
       "      <td>False</td>\n",
       "      <td>False</td>\n",
       "      <td>NerdyBruno</td>\n",
       "      <td>2626</td>\n",
       "      <td>Pacific Time (US &amp; Canada)</td>\n",
       "      <td>none</td>\n",
       "      <td>None</td>\n",
       "      <td>-25200.0</td>\n",
       "      <td>False</td>\n",
       "    </tr>\n",
       "    <tr>\n",
       "      <th>4</th>\n",
       "      <td>171010201055_california_wildfire_2017</td>\n",
       "      <td>California Wildfire 2017</td>\n",
       "      <td>twitter</td>\n",
       "      <td>NaN</td>\n",
       "      <td>NaN</td>\n",
       "      <td>None</td>\n",
       "      <td>None</td>\n",
       "      <td>Tue Oct 10 16:44:21 +0000 2017</td>\n",
       "      <td>NaN</td>\n",
       "      <td>[{'text': 'CaliforniaWildfires', 'indices': [8...</td>\n",
       "      <td>...</td>\n",
       "      <td>59792E</td>\n",
       "      <td>True</td>\n",
       "      <td>False</td>\n",
       "      <td>Kenlenkirk</td>\n",
       "      <td>187879</td>\n",
       "      <td>Pacific Time (US &amp; Canada)</td>\n",
       "      <td>none</td>\n",
       "      <td>http://www.reverbnation.com/doctorreefer</td>\n",
       "      <td>-25200.0</td>\n",
       "      <td>False</td>\n",
       "    </tr>\n",
       "  </tbody>\n",
       "</table>\n",
       "<p>5 rows × 249 columns</p>\n",
       "</div>"
      ],
      "text/plain": [
       "                        aidr.crisis_code          aidr.crisis_name  \\\n",
       "0  171010201055_california_wildfire_2017  California Wildfire 2017   \n",
       "1  171010201055_california_wildfire_2017  California Wildfire 2017   \n",
       "2  171010201055_california_wildfire_2017  California Wildfire 2017   \n",
       "3  171010201055_california_wildfire_2017  California Wildfire 2017   \n",
       "4  171010201055_california_wildfire_2017  California Wildfire 2017   \n",
       "\n",
       "  aidr.doctype aidr.features aidr.nominal_labels contributors coordinates  \\\n",
       "0      twitter           NaN                 NaN         None        None   \n",
       "1      twitter           NaN                 NaN         None        None   \n",
       "2      twitter           NaN                 NaN         None        None   \n",
       "3      twitter           NaN                 NaN         None        None   \n",
       "4      twitter           NaN                 NaN         None        None   \n",
       "\n",
       "                       created_at display_text_range  \\\n",
       "0  Tue Oct 10 16:37:11 +0000 2017            [0, 67]   \n",
       "1  Tue Oct 10 16:36:51 +0000 2017                NaN   \n",
       "2  Tue Oct 10 16:37:50 +0000 2017                NaN   \n",
       "3  Tue Oct 10 16:41:01 +0000 2017                NaN   \n",
       "4  Tue Oct 10 16:44:21 +0000 2017                NaN   \n",
       "\n",
       "                                   entities.hashtags  ...  \\\n",
       "0                                                 []  ...   \n",
       "1                                                 []  ...   \n",
       "2                                                 []  ...   \n",
       "3                                                 []  ...   \n",
       "4  [{'text': 'CaliforniaWildfires', 'indices': [8...  ...   \n",
       "\n",
       "  user.profile_text_color user.profile_use_background_image user.protected  \\\n",
       "0                  333333                              True          False   \n",
       "1                  050505                              True          False   \n",
       "2                  333333                              True          False   \n",
       "3                  000000                             False          False   \n",
       "4                  59792E                              True          False   \n",
       "\n",
       "  user.screen_name user.statuses_count              user.time_zone  \\\n",
       "0           WMTWTV              159458  Eastern Time (US & Canada)   \n",
       "1         Kirkdify               23099  Pacific Time (US & Canada)   \n",
       "2        AMEalerts                3306  Central Time (US & Canada)   \n",
       "3       NerdyBruno                2626  Pacific Time (US & Canada)   \n",
       "4       Kenlenkirk              187879  Pacific Time (US & Canada)   \n",
       "\n",
       "   user.translator_type                                  user.url  \\\n",
       "0                  none                           http://wmtw.com   \n",
       "1                  none                                      None   \n",
       "2                  none                 http://alertsmadeeasy.com   \n",
       "3                  none                                      None   \n",
       "4                  none  http://www.reverbnation.com/doctorreefer   \n",
       "\n",
       "  user.utc_offset  user.verified  \n",
       "0        -14400.0           True  \n",
       "1        -25200.0          False  \n",
       "2        -18000.0          False  \n",
       "3        -25200.0          False  \n",
       "4        -25200.0          False  \n",
       "\n",
       "[5 rows x 249 columns]"
      ]
     },
     "execution_count": 4,
     "metadata": {},
     "output_type": "execute_result"
    }
   ],
   "source": [
    "wildfires.head()"
   ]
  }
 ],
 "metadata": {
  "kernelspec": {
   "display_name": "Python 3",
   "language": "python",
   "name": "python3"
  },
  "language_info": {
   "codemirror_mode": {
    "name": "ipython",
    "version": 3
   },
   "file_extension": ".py",
   "mimetype": "text/x-python",
   "name": "python",
   "nbconvert_exporter": "python",
   "pygments_lexer": "ipython3",
   "version": "3.7.2"
  },
  "varInspector": {
   "cols": {
    "lenName": 16,
    "lenType": 16,
    "lenVar": 40
   },
   "kernels_config": {
    "python": {
     "delete_cmd_postfix": "",
     "delete_cmd_prefix": "del ",
     "library": "var_list.py",
     "varRefreshCmd": "print(var_dic_list())"
    },
    "r": {
     "delete_cmd_postfix": ") ",
     "delete_cmd_prefix": "rm(",
     "library": "var_list.r",
     "varRefreshCmd": "cat(var_dic_list()) "
    }
   },
   "types_to_exclude": [
    "module",
    "function",
    "builtin_function_or_method",
    "instance",
    "_Feature"
   ],
   "window_display": false
  }
 },
 "nbformat": 4,
 "nbformat_minor": 2
}
