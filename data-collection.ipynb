{
 "cells": [
  {
   "cell_type": "markdown",
   "metadata": {},
   "source": [
    "# Data Collection"
   ]
  },
  {
   "cell_type": "markdown",
   "metadata": {},
   "source": [
    "Note: Since the twitterscraper has locked us out of pulling any more data, these cells are going to have to stay out of order, or the entire process will be lost."
   ]
  },
  {
   "cell_type": "code",
   "execution_count": 1,
   "metadata": {},
   "outputs": [],
   "source": [
    "from twitterscraper import query_tweets\n",
    "import codecs, json\n",
    "import pandas as pd\n",
    "import os\n",
    "import subprocess"
   ]
  },
  {
   "cell_type": "code",
   "execution_count": 2,
   "metadata": {},
   "outputs": [
    {
     "data": {
      "text/plain": [
       "60"
      ]
     },
     "execution_count": 2,
     "metadata": {},
     "output_type": "execute_result"
    }
   ],
   "source": [
    "test_grid1 = [(40.601962, -73.973578),\n",
    " (40.73671007430053, -73.973578),\n",
    " (40.87145814860107, -73.973578),\n",
    " (41.006206222901604, -73.973578),\n",
    " (40.60182568767523, -73.79610277535537),\n",
    " (40.73657376197577, -73.79610277535537),\n",
    " (40.8713218362763, -73.79610277535537),\n",
    " (41.00606991057684, -73.79610277535537),\n",
    " (40.6016893760044, -73.61862791262806),\n",
    " (40.73643745030495, -73.61862791262806),\n",
    " (40.87118552460549, -73.61862791262806),\n",
    " (41.00593359890602, -73.61862791262806),\n",
    " (40.6015530649875, -73.4411534118139),\n",
    " (40.736301139288045, -73.4411534118139),\n",
    " (40.87104921358858, -73.4411534118139),\n",
    " (41.005797287889116, -73.4411534118139),\n",
    " (40.60141675462452, -73.26367927290865),\n",
    " (40.73616482892506, -73.26367927290865),\n",
    " (40.8709129032256, -73.26367927290865),\n",
    " (41.00566097752614, -73.26367927290865),\n",
    " (40.60128044491545, -73.08620549590809),\n",
    " (40.73602851921599, -73.08620549590809),\n",
    " (40.87077659351653, -73.08620549590809),\n",
    " (41.00552466781706, -73.08620549590809),\n",
    " (40.6011441358603, -72.90873208080801),\n",
    " (40.73589221016084, -72.90873208080801),\n",
    " (40.87064028446138, -72.90873208080801),\n",
    " (41.00538835876191, -72.90873208080801),\n",
    " (40.60100782745905, -72.73125902760421),\n",
    " (40.73575590175958, -72.73125902760421),\n",
    " (40.870503976060114, -72.73125902760421),\n",
    " (41.00525205036065, -72.73125902760421),\n",
    " (40.6008715197117, -72.55378633629245),\n",
    " (40.73561959401224, -72.55378633629245),\n",
    " (40.870367668312774, -72.55378633629245),\n",
    " (41.005115742613306, -72.55378633629245),\n",
    " (40.600735212618254, -72.37631400686851),\n",
    " (40.73548328691879, -72.37631400686851),\n",
    " (40.870231361219325, -72.37631400686851),\n",
    " (41.00497943551987, -72.37631400686851),\n",
    " (40.60059890617869, -72.1988420393282),\n",
    " (40.73534698047923, -72.1988420393282),\n",
    " (40.87009505477976, -72.1988420393282),\n",
    " (41.00484312908029, -72.1988420393282),\n",
    " (40.60046260039301, -72.02137043366727),\n",
    " (40.73521067469355, -72.02137043366727),\n",
    " (40.86995874899408, -72.02137043366727),\n",
    " (41.00470682329461, -72.02137043366727),\n",
    " (40.6003262952612, -71.84389918988155),\n",
    " (40.73507436956174, -71.84389918988155),\n",
    " (40.869822443862276, -71.84389918988155),\n",
    " (41.004570518162815, -71.84389918988155),\n",
    " (40.60018999078327, -71.66642830796678),\n",
    " (40.7349380650838, -71.66642830796678),\n",
    " (40.86968613938433, -71.66642830796678),\n",
    " (41.00443421368486, -71.66642830796678),\n",
    " (40.600053686959185, -71.48895778791876),\n",
    " (40.734801761259725, -71.48895778791876),\n",
    " (40.86954983556026, -71.48895778791876),\n",
    " (41.004297909860796, -71.48895778791876)];\n",
    "\n",
    "len(test_grid)"
   ]
  },
  {
   "cell_type": "code",
   "execution_count": 3,
   "metadata": {},
   "outputs": [],
   "source": [
    "test_grid2 = [(40.527428, -76.719904),\n",
    " (40.66217607430053, -76.719904),\n",
    " (40.79692414860107, -76.719904),\n",
    " (40.931672222901604, -76.719904),\n",
    " (41.066420297202136, -76.719904),\n",
    " (41.201168371502675, -76.719904),\n",
    " (41.335916445803214, -76.719904),\n",
    " (41.470664520103746, -76.719904),\n",
    " (40.52729204484159, -76.54262629794702),\n",
    " (40.66204011914212, -76.54262629794702),\n",
    " (40.79678819344265, -76.54262629794702),\n",
    " (40.93153626774318, -76.54262629794702),\n",
    " (41.066284342043716, -76.54262629794702),\n",
    " (41.201032416344255, -76.54262629794702),\n",
    " (41.33578049064479, -76.54262629794702),\n",
    " (41.47052856494532, -76.54262629794702),\n",
    " (40.527156090333946, -76.36534895551316),\n",
    " (40.66190416463448, -76.36534895551317),\n",
    " (40.79665223893502, -76.36534895551317),\n",
    " (40.93140031323556, -76.36534895551317),\n",
    " (41.06614838753609, -76.36534895551317),\n",
    " (41.20089646183663, -76.36534895551317),\n",
    " (41.33564453613717, -76.36534895551317),\n",
    " (41.470392610437706, -76.36534895551317),\n",
    " (40.52702013647707, -76.18807197269423),\n",
    " (40.6617682107776, -76.18807197269423),\n",
    " (40.796516285078134, -76.18807197269423),\n",
    " (40.93126435937867, -76.18807197269423),\n",
    " (41.0660124336792, -76.18807197269423),\n",
    " (41.20076050797974, -76.18807197269423),\n",
    " (41.335508582280276, -76.18807197269423),\n",
    " (41.47025665658081, -76.18807197269423),\n",
    " (40.526884183270944, -76.01079534948605),\n",
    " (40.66163225757148, -76.01079534948605),\n",
    " (40.796380331872015, -76.01079534948605),\n",
    " (40.93112840617255, -76.01079534948605),\n",
    " (41.06587648047309, -76.01079534948605),\n",
    " (41.20062455477361, -76.01079534948605),\n",
    " (41.33537262907415, -76.01079534948605),\n",
    " (41.47012070337469, -76.01079534948605),\n",
    " (40.52674823071558, -75.83351908588443),\n",
    " (40.661496305016115, -75.83351908588443),\n",
    " (40.79624437931665, -75.83351908588443),\n",
    " (40.93099245361718, -75.83351908588443),\n",
    " (41.065740527917725, -75.83351908588443),\n",
    " (41.20048860221826, -75.83351908588443),\n",
    " (41.33523667651878, -75.83351908588443),\n",
    " (41.469984750819314, -75.83351908588443),\n",
    " (40.52661227881096, -75.65624318188522),\n",
    " (40.66136035311149, -75.65624318188522),\n",
    " (40.79610842741204, -75.65624318188522),\n",
    " (40.93085650171257, -75.65624318188522),\n",
    " (41.0656045760131, -75.65624318188522),\n",
    " (41.20035265031363, -75.65624318188522),\n",
    " (41.335100724614165, -75.65624318188522),\n",
    " (41.469848798914704, -75.65624318188522),\n",
    " (40.52647632755708, -75.47896763748422),\n",
    " (40.66122440185761, -75.47896763748422),\n",
    " (40.79597247615814, -75.47896763748422),\n",
    " (40.93072055045868, -75.47896763748422),\n",
    " (41.06546862475921, -75.47896763748422),\n",
    " (41.20021669905975, -75.47896763748422),\n",
    " (41.334964773360284, -75.47896763748422),\n",
    " (41.46971284766082, -75.47896763748422)]"
   ]
  },
  {
   "cell_type": "code",
   "execution_count": 71,
   "metadata": {},
   "outputs": [],
   "source": [
    "test_grid3 = [(38.519204, -76.184028),\n",
    " (38.65395207430054, -76.18402800000001),\n",
    " (38.78870014860107, -76.18402800000001),\n",
    " (38.923448222901605, -76.18402800000001),\n",
    " (39.05819629720214, -76.18402800000001),\n",
    " (38.51907738158143, -76.01180406276316),\n",
    " (38.65382545588197, -76.01180406276316),\n",
    " (38.788573530182504, -76.01180406276316),\n",
    " (38.923321604483036, -76.01180406276316),\n",
    " (39.05806967878357, -76.01180406276316),\n",
    " (38.518950763734885, -75.83958042847405),\n",
    " (38.653698838035425, -75.83958042847405),\n",
    " (38.78844691233595, -75.83958042847405),\n",
    " (38.92319498663649, -75.83958042847405),\n",
    " (39.05794306093702, -75.83958042847405),\n",
    " (38.51882414646034, -75.66735709712943),\n",
    " (38.65357222076088, -75.66735709712943),\n",
    " (38.78832029506142, -75.66735709712943),\n",
    " (38.92306836936195, -75.66735709712943),\n",
    " (39.05781644366248, -75.66735709712943),\n",
    " (38.51869752975781, -75.495134068726),\n",
    " (38.65344560405834, -75.495134068726),\n",
    " (38.78819367835887, -75.495134068726),\n",
    " (38.922941752659405, -75.495134068726),\n",
    " (39.05768982695994, -75.495134068726)]"
   ]
  },
  {
   "cell_type": "code",
   "execution_count": 79,
   "metadata": {},
   "outputs": [],
   "source": [
    "test_grid4 = [(40.765261, -74.234681),\n",
    " (40.900009074300534, -74.234681),\n",
    " (41.03475714860108, -74.234681),\n",
    " (41.16950522290161, -74.234681),\n",
    " (41.304253297202145, -74.234681),\n",
    " (40.76512390235491, -74.05677041972547),\n",
    " (40.89987197665545, -74.05677041972547),\n",
    " (41.03462005095599, -74.05677041972547),\n",
    " (41.169368125256526, -74.05677041972547),\n",
    " (41.30411619955705, -74.05677041972547),\n",
    " (40.76498680537075, -73.87886020645615),\n",
    " (40.89973487967128, -73.87886020645615),\n",
    " (41.034482953971825, -73.87886020645615),\n",
    " (41.16923102827235, -73.87886020645615),\n",
    " (41.30397910257288, -73.87886020645615),\n",
    " (40.76484970904751, -73.70095036018775),\n",
    " (40.89959778334804, -73.70095036018775),\n",
    " (41.034345857648574, -73.70095036018775),\n",
    " (41.169093931949114, -73.70095036018775),\n",
    " (41.30384200624965, -73.70095036018775),\n",
    " (40.76471261338519, -73.52304088091594),\n",
    " (40.899460687685725, -73.52304088091594),\n",
    " (41.03420876198626, -73.52304088091594),\n",
    " (41.168956836286796, -73.52304088091594),\n",
    " (41.30370491058733, -73.52304088091594)]"
   ]
  },
  {
   "cell_type": "code",
   "execution_count": 54,
   "metadata": {},
   "outputs": [],
   "source": [
    "for i in range(60):\n",
    "    \n",
    "    try:\n",
    "        with codecs.open(f'./long_island_max_1000/tweets{i}.json', 'r', 'utf-8') as f:\n",
    "            tweets = json.load(f, encoding='utf-8')\n",
    "\n",
    "        list_tweets = [list(elem.values()) for elem in tweets]\n",
    "        list_columns = list(tweets[0].keys())\n",
    "        df = pd.DataFrame(list_tweets, columns=list_columns)\n",
    "        df['latitude'] = test_grid1[i][0]\n",
    "        df['longitude'] = test_grid1[i][1]\n",
    "\n",
    "        if i == 0:\n",
    "            final_df = df\n",
    "\n",
    "        else:\n",
    "            final_df = pd.concat([final_df, df])\n",
    "    \n",
    "    except:\n",
    "        pass"
   ]
  },
  {
   "cell_type": "code",
   "execution_count": 55,
   "metadata": {},
   "outputs": [
    {
     "data": {
      "text/html": [
       "<div>\n",
       "<style scoped>\n",
       "    .dataframe tbody tr th:only-of-type {\n",
       "        vertical-align: middle;\n",
       "    }\n",
       "\n",
       "    .dataframe tbody tr th {\n",
       "        vertical-align: top;\n",
       "    }\n",
       "\n",
       "    .dataframe thead th {\n",
       "        text-align: right;\n",
       "    }\n",
       "</style>\n",
       "<table border=\"1\" class=\"dataframe\">\n",
       "  <thead>\n",
       "    <tr style=\"text-align: right;\">\n",
       "      <th></th>\n",
       "      <th>fullname</th>\n",
       "      <th>html</th>\n",
       "      <th>id</th>\n",
       "      <th>likes</th>\n",
       "      <th>replies</th>\n",
       "      <th>retweets</th>\n",
       "      <th>text</th>\n",
       "      <th>timestamp</th>\n",
       "      <th>url</th>\n",
       "      <th>user</th>\n",
       "      <th>latitude</th>\n",
       "      <th>longitude</th>\n",
       "    </tr>\n",
       "  </thead>\n",
       "  <tbody>\n",
       "    <tr>\n",
       "      <th>0</th>\n",
       "      <td>Arijan Ramku  🌹</td>\n",
       "      <td>&lt;p class=\"TweetTextSize js-tweet-text tweet-te...</td>\n",
       "      <td>263430003797151746</td>\n",
       "      <td>0</td>\n",
       "      <td>0</td>\n",
       "      <td>1</td>\n",
       "      <td>Staten Island #Sandy pic.twitter.com/h0gFWKvp</td>\n",
       "      <td>2012-10-30T23:59:42</td>\n",
       "      <td>/ariramku/status/263430003797151746</td>\n",
       "      <td>ariramku</td>\n",
       "      <td>40.601962</td>\n",
       "      <td>-73.973578</td>\n",
       "    </tr>\n",
       "    <tr>\n",
       "      <th>1</th>\n",
       "      <td>мια</td>\n",
       "      <td>&lt;p class=\"TweetTextSize js-tweet-text tweet-te...</td>\n",
       "      <td>263429531082293248</td>\n",
       "      <td>0</td>\n",
       "      <td>0</td>\n",
       "      <td>0</td>\n",
       "      <td>24 hours w/out power. #Sandy</td>\n",
       "      <td>2012-10-30T23:57:49</td>\n",
       "      <td>/miasolx/status/263429531082293248</td>\n",
       "      <td>miasolx</td>\n",
       "      <td>40.601962</td>\n",
       "      <td>-73.973578</td>\n",
       "    </tr>\n",
       "    <tr>\n",
       "      <th>2</th>\n",
       "      <td>Deanna</td>\n",
       "      <td>&lt;p class=\"TweetTextSize js-tweet-text tweet-te...</td>\n",
       "      <td>263426428157173760</td>\n",
       "      <td>0</td>\n",
       "      <td>0</td>\n",
       "      <td>0</td>\n",
       "      <td>heading home from Sheepshead bay Cleaning stor...</td>\n",
       "      <td>2012-10-30T23:45:29</td>\n",
       "      <td>/Dbitetti/status/263426428157173760</td>\n",
       "      <td>Dbitetti</td>\n",
       "      <td>40.601962</td>\n",
       "      <td>-73.973578</td>\n",
       "    </tr>\n",
       "    <tr>\n",
       "      <th>3</th>\n",
       "      <td>William Bright</td>\n",
       "      <td>&lt;p class=\"TweetTextSize js-tweet-text tweet-te...</td>\n",
       "      <td>263426306811756545</td>\n",
       "      <td>0</td>\n",
       "      <td>0</td>\n",
       "      <td>0</td>\n",
       "      <td>Nathan's Famous Take Home Food. But no power. ...</td>\n",
       "      <td>2012-10-30T23:45:00</td>\n",
       "      <td>/brightfactor/status/263426306811756545</td>\n",
       "      <td>brightfactor</td>\n",
       "      <td>40.601962</td>\n",
       "      <td>-73.973578</td>\n",
       "    </tr>\n",
       "    <tr>\n",
       "      <th>4</th>\n",
       "      <td>William Bright</td>\n",
       "      <td>&lt;p class=\"TweetTextSize js-tweet-text tweet-te...</td>\n",
       "      <td>263425970713817088</td>\n",
       "      <td>0</td>\n",
       "      <td>0</td>\n",
       "      <td>0</td>\n",
       "      <td>The Cyclone. Coney Island is still without pow...</td>\n",
       "      <td>2012-10-30T23:43:40</td>\n",
       "      <td>/brightfactor/status/263425970713817088</td>\n",
       "      <td>brightfactor</td>\n",
       "      <td>40.601962</td>\n",
       "      <td>-73.973578</td>\n",
       "    </tr>\n",
       "  </tbody>\n",
       "</table>\n",
       "</div>"
      ],
      "text/plain": [
       "          fullname                                               html  \\\n",
       "0  Arijan Ramku  🌹  <p class=\"TweetTextSize js-tweet-text tweet-te...   \n",
       "1              мια  <p class=\"TweetTextSize js-tweet-text tweet-te...   \n",
       "2           Deanna  <p class=\"TweetTextSize js-tweet-text tweet-te...   \n",
       "3   William Bright  <p class=\"TweetTextSize js-tweet-text tweet-te...   \n",
       "4   William Bright  <p class=\"TweetTextSize js-tweet-text tweet-te...   \n",
       "\n",
       "                   id  likes  replies  retweets  \\\n",
       "0  263430003797151746      0        0         1   \n",
       "1  263429531082293248      0        0         0   \n",
       "2  263426428157173760      0        0         0   \n",
       "3  263426306811756545      0        0         0   \n",
       "4  263425970713817088      0        0         0   \n",
       "\n",
       "                                                text            timestamp  \\\n",
       "0      Staten Island #Sandy pic.twitter.com/h0gFWKvp  2012-10-30T23:59:42   \n",
       "1                       24 hours w/out power. #Sandy  2012-10-30T23:57:49   \n",
       "2  heading home from Sheepshead bay Cleaning stor...  2012-10-30T23:45:29   \n",
       "3  Nathan's Famous Take Home Food. But no power. ...  2012-10-30T23:45:00   \n",
       "4  The Cyclone. Coney Island is still without pow...  2012-10-30T23:43:40   \n",
       "\n",
       "                                       url          user   latitude  longitude  \n",
       "0      /ariramku/status/263430003797151746      ariramku  40.601962 -73.973578  \n",
       "1       /miasolx/status/263429531082293248       miasolx  40.601962 -73.973578  \n",
       "2      /Dbitetti/status/263426428157173760      Dbitetti  40.601962 -73.973578  \n",
       "3  /brightfactor/status/263426306811756545  brightfactor  40.601962 -73.973578  \n",
       "4  /brightfactor/status/263425970713817088  brightfactor  40.601962 -73.973578  "
      ]
     },
     "execution_count": 55,
     "metadata": {},
     "output_type": "execute_result"
    }
   ],
   "source": [
    "final_df.head()"
   ]
  },
  {
   "cell_type": "code",
   "execution_count": 56,
   "metadata": {},
   "outputs": [],
   "source": [
    "final_df.reset_index(drop=True, inplace=True)"
   ]
  },
  {
   "cell_type": "code",
   "execution_count": 57,
   "metadata": {},
   "outputs": [
    {
     "data": {
      "text/plain": [
       "(6681, 12)"
      ]
     },
     "execution_count": 57,
     "metadata": {},
     "output_type": "execute_result"
    }
   ],
   "source": [
    "final_df.shape"
   ]
  },
  {
   "cell_type": "code",
   "execution_count": 58,
   "metadata": {},
   "outputs": [],
   "source": [
    "final_df.drop_duplicates(subset=['text'], inplace=True)"
   ]
  },
  {
   "cell_type": "code",
   "execution_count": 59,
   "metadata": {},
   "outputs": [
    {
     "data": {
      "text/plain": [
       "(6566, 12)"
      ]
     },
     "execution_count": 59,
     "metadata": {},
     "output_type": "execute_result"
    }
   ],
   "source": [
    "final_df.shape"
   ]
  },
  {
   "cell_type": "code",
   "execution_count": 61,
   "metadata": {},
   "outputs": [],
   "source": [
    "for i in range(64):\n",
    "    \n",
    "    try:\n",
    "        with codecs.open(f'./penn_max_1000/tweets{i}.json', 'r', 'utf-8') as f:\n",
    "            tweets = json.load(f, encoding='utf-8')\n",
    "\n",
    "        list_tweets = [list(elem.values()) for elem in tweets]\n",
    "        list_columns = list(tweets[0].keys())\n",
    "        df = pd.DataFrame(list_tweets, columns=list_columns)\n",
    "        df['latitude'] = test_grid2[i][0]\n",
    "        df['longitude'] = test_grid2[i][1]\n",
    "\n",
    "        if i == 0:\n",
    "            final_df_penn = df\n",
    "\n",
    "        else:\n",
    "            final_df_penn = pd.concat([final_df_penn, df])\n",
    "    \n",
    "    except:\n",
    "        pass"
   ]
  },
  {
   "cell_type": "code",
   "execution_count": 63,
   "metadata": {},
   "outputs": [
    {
     "data": {
      "text/html": [
       "<div>\n",
       "<style scoped>\n",
       "    .dataframe tbody tr th:only-of-type {\n",
       "        vertical-align: middle;\n",
       "    }\n",
       "\n",
       "    .dataframe tbody tr th {\n",
       "        vertical-align: top;\n",
       "    }\n",
       "\n",
       "    .dataframe thead th {\n",
       "        text-align: right;\n",
       "    }\n",
       "</style>\n",
       "<table border=\"1\" class=\"dataframe\">\n",
       "  <thead>\n",
       "    <tr style=\"text-align: right;\">\n",
       "      <th></th>\n",
       "      <th>fullname</th>\n",
       "      <th>html</th>\n",
       "      <th>id</th>\n",
       "      <th>likes</th>\n",
       "      <th>replies</th>\n",
       "      <th>retweets</th>\n",
       "      <th>text</th>\n",
       "      <th>timestamp</th>\n",
       "      <th>url</th>\n",
       "      <th>user</th>\n",
       "      <th>latitude</th>\n",
       "      <th>longitude</th>\n",
       "    </tr>\n",
       "  </thead>\n",
       "  <tbody>\n",
       "    <tr>\n",
       "      <th>0</th>\n",
       "      <td>Han</td>\n",
       "      <td>&lt;p class=\"TweetTextSize js-tweet-text tweet-te...</td>\n",
       "      <td>263018483137277952</td>\n",
       "      <td>0</td>\n",
       "      <td>0</td>\n",
       "      <td>0</td>\n",
       "      <td>S/O to all the people who left their sunroofs ...</td>\n",
       "      <td>2012-10-29T20:44:27</td>\n",
       "      <td>/h_Szwak/status/263018483137277952</td>\n",
       "      <td>h_Szwak</td>\n",
       "      <td>40.527428</td>\n",
       "      <td>-76.719904</td>\n",
       "    </tr>\n",
       "    <tr>\n",
       "      <th>1</th>\n",
       "      <td>Han</td>\n",
       "      <td>&lt;p class=\"TweetTextSize js-tweet-text tweet-te...</td>\n",
       "      <td>262705404033777664</td>\n",
       "      <td>1</td>\n",
       "      <td>0</td>\n",
       "      <td>0</td>\n",
       "      <td>I should probably most definitely be more prep...</td>\n",
       "      <td>2012-10-29T00:00:23</td>\n",
       "      <td>/h_Szwak/status/262705404033777664</td>\n",
       "      <td>h_Szwak</td>\n",
       "      <td>40.527428</td>\n",
       "      <td>-76.719904</td>\n",
       "    </tr>\n",
       "    <tr>\n",
       "      <th>0</th>\n",
       "      <td>ash  ☯</td>\n",
       "      <td>&lt;p class=\"TweetTextSize js-tweet-text tweet-te...</td>\n",
       "      <td>262606077995151360</td>\n",
       "      <td>0</td>\n",
       "      <td>1</td>\n",
       "      <td>0</td>\n",
       "      <td>People are really freakin' out about this hurr...</td>\n",
       "      <td>2012-10-28T17:25:42</td>\n",
       "      <td>/AsheryCharles/status/262606077995151360</td>\n",
       "      <td>AsheryCharles</td>\n",
       "      <td>40.796924</td>\n",
       "      <td>-76.719904</td>\n",
       "    </tr>\n",
       "    <tr>\n",
       "      <th>0</th>\n",
       "      <td>Trisha Kemper</td>\n",
       "      <td>&lt;p class=\"TweetTextSize js-tweet-text tweet-te...</td>\n",
       "      <td>263301210302459906</td>\n",
       "      <td>0</td>\n",
       "      <td>0</td>\n",
       "      <td>0</td>\n",
       "      <td>Who says u can't cook with no power?? #woodsto...</td>\n",
       "      <td>2012-10-30T15:27:55</td>\n",
       "      <td>/TrishaReibsome/status/263301210302459906</td>\n",
       "      <td>TrishaReibsome</td>\n",
       "      <td>40.931672</td>\n",
       "      <td>-76.719904</td>\n",
       "    </tr>\n",
       "    <tr>\n",
       "      <th>1</th>\n",
       "      <td>who's that girl? ..it me.</td>\n",
       "      <td>&lt;p class=\"TweetTextSize js-tweet-text tweet-te...</td>\n",
       "      <td>263290451602325504</td>\n",
       "      <td>1</td>\n",
       "      <td>1</td>\n",
       "      <td>1</td>\n",
       "      <td>Gonna have to go out to charge my phone in the...</td>\n",
       "      <td>2012-10-30T14:45:10</td>\n",
       "      <td>/ohgeez_ohno/status/263290451602325504</td>\n",
       "      <td>ohgeez_ohno</td>\n",
       "      <td>40.931672</td>\n",
       "      <td>-76.719904</td>\n",
       "    </tr>\n",
       "  </tbody>\n",
       "</table>\n",
       "</div>"
      ],
      "text/plain": [
       "                    fullname  \\\n",
       "0                        Han   \n",
       "1                        Han   \n",
       "0                     ash  ☯   \n",
       "0              Trisha Kemper   \n",
       "1  who's that girl? ..it me.   \n",
       "\n",
       "                                                html                  id  \\\n",
       "0  <p class=\"TweetTextSize js-tweet-text tweet-te...  263018483137277952   \n",
       "1  <p class=\"TweetTextSize js-tweet-text tweet-te...  262705404033777664   \n",
       "0  <p class=\"TweetTextSize js-tweet-text tweet-te...  262606077995151360   \n",
       "0  <p class=\"TweetTextSize js-tweet-text tweet-te...  263301210302459906   \n",
       "1  <p class=\"TweetTextSize js-tweet-text tweet-te...  263290451602325504   \n",
       "\n",
       "   likes  replies  retweets  \\\n",
       "0      0        0         0   \n",
       "1      1        0         0   \n",
       "0      0        1         0   \n",
       "0      0        0         0   \n",
       "1      1        1         1   \n",
       "\n",
       "                                                text            timestamp  \\\n",
       "0  S/O to all the people who left their sunroofs ...  2012-10-29T20:44:27   \n",
       "1  I should probably most definitely be more prep...  2012-10-29T00:00:23   \n",
       "0  People are really freakin' out about this hurr...  2012-10-28T17:25:42   \n",
       "0  Who says u can't cook with no power?? #woodsto...  2012-10-30T15:27:55   \n",
       "1  Gonna have to go out to charge my phone in the...  2012-10-30T14:45:10   \n",
       "\n",
       "                                         url            user   latitude  \\\n",
       "0         /h_Szwak/status/263018483137277952         h_Szwak  40.527428   \n",
       "1         /h_Szwak/status/262705404033777664         h_Szwak  40.527428   \n",
       "0   /AsheryCharles/status/262606077995151360   AsheryCharles  40.796924   \n",
       "0  /TrishaReibsome/status/263301210302459906  TrishaReibsome  40.931672   \n",
       "1     /ohgeez_ohno/status/263290451602325504     ohgeez_ohno  40.931672   \n",
       "\n",
       "   longitude  \n",
       "0 -76.719904  \n",
       "1 -76.719904  \n",
       "0 -76.719904  \n",
       "0 -76.719904  \n",
       "1 -76.719904  "
      ]
     },
     "execution_count": 63,
     "metadata": {},
     "output_type": "execute_result"
    }
   ],
   "source": [
    "final_df_penn.head()"
   ]
  },
  {
   "cell_type": "code",
   "execution_count": 64,
   "metadata": {},
   "outputs": [],
   "source": [
    "final_df_penn.reset_index(drop=True, inplace=True)"
   ]
  },
  {
   "cell_type": "code",
   "execution_count": 65,
   "metadata": {},
   "outputs": [
    {
     "data": {
      "text/plain": [
       "(607, 12)"
      ]
     },
     "execution_count": 65,
     "metadata": {},
     "output_type": "execute_result"
    }
   ],
   "source": [
    "final_df_penn.shape"
   ]
  },
  {
   "cell_type": "code",
   "execution_count": 66,
   "metadata": {},
   "outputs": [],
   "source": [
    "final_df_penn.drop_duplicates(subset=['text'], inplace=True)"
   ]
  },
  {
   "cell_type": "code",
   "execution_count": 67,
   "metadata": {},
   "outputs": [
    {
     "data": {
      "text/plain": [
       "(594, 12)"
      ]
     },
     "execution_count": 67,
     "metadata": {},
     "output_type": "execute_result"
    }
   ],
   "source": [
    "final_df_penn.shape"
   ]
  },
  {
   "cell_type": "code",
   "execution_count": 72,
   "metadata": {},
   "outputs": [],
   "source": [
    "for i in range(25):\n",
    "    \n",
    "    try:\n",
    "        with codecs.open(f'./delaware_max_1000/tweets{i}.json', 'r', 'utf-8') as f:\n",
    "            tweets = json.load(f, encoding='utf-8')\n",
    "\n",
    "        list_tweets = [list(elem.values()) for elem in tweets]\n",
    "        list_columns = list(tweets[0].keys())\n",
    "        df = pd.DataFrame(list_tweets, columns=list_columns)\n",
    "        df['latitude'] = test_grid3[i][0]\n",
    "        df['longitude'] = test_grid3[i][1]\n",
    "\n",
    "        if i == 0:\n",
    "            final_df_delaware = df\n",
    "\n",
    "        else:\n",
    "            final_df_delaware = pd.concat([final_df_delaware, df])\n",
    "    \n",
    "    except:\n",
    "        pass"
   ]
  },
  {
   "cell_type": "code",
   "execution_count": 73,
   "metadata": {},
   "outputs": [
    {
     "data": {
      "text/html": [
       "<div>\n",
       "<style scoped>\n",
       "    .dataframe tbody tr th:only-of-type {\n",
       "        vertical-align: middle;\n",
       "    }\n",
       "\n",
       "    .dataframe tbody tr th {\n",
       "        vertical-align: top;\n",
       "    }\n",
       "\n",
       "    .dataframe thead th {\n",
       "        text-align: right;\n",
       "    }\n",
       "</style>\n",
       "<table border=\"1\" class=\"dataframe\">\n",
       "  <thead>\n",
       "    <tr style=\"text-align: right;\">\n",
       "      <th></th>\n",
       "      <th>fullname</th>\n",
       "      <th>html</th>\n",
       "      <th>id</th>\n",
       "      <th>likes</th>\n",
       "      <th>replies</th>\n",
       "      <th>retweets</th>\n",
       "      <th>text</th>\n",
       "      <th>timestamp</th>\n",
       "      <th>url</th>\n",
       "      <th>user</th>\n",
       "      <th>latitude</th>\n",
       "      <th>longitude</th>\n",
       "    </tr>\n",
       "  </thead>\n",
       "  <tbody>\n",
       "    <tr>\n",
       "      <th>0</th>\n",
       "      <td>Johnny Smith</td>\n",
       "      <td>&lt;p class=\"TweetTextSize js-tweet-text tweet-te...</td>\n",
       "      <td>263008768340664321</td>\n",
       "      <td>0</td>\n",
       "      <td>0</td>\n",
       "      <td>0</td>\n",
       "      <td>#Sandy starting to be a real bitch !!!! http:/...</td>\n",
       "      <td>2012-10-29T20:05:51</td>\n",
       "      <td>/J_Smith_81/status/263008768340664321</td>\n",
       "      <td>J_Smith_81</td>\n",
       "      <td>38.519204</td>\n",
       "      <td>-76.184028</td>\n",
       "    </tr>\n",
       "    <tr>\n",
       "      <th>1</th>\n",
       "      <td>William Jones</td>\n",
       "      <td>&lt;p class=\"TweetTextSize js-tweet-text tweet-te...</td>\n",
       "      <td>262956623650230272</td>\n",
       "      <td>2</td>\n",
       "      <td>1</td>\n",
       "      <td>3</td>\n",
       "      <td>You all told sandy to bring it on and now that...</td>\n",
       "      <td>2012-10-29T16:38:39</td>\n",
       "      <td>/william_jones93/status/262956623650230272</td>\n",
       "      <td>william_jones93</td>\n",
       "      <td>38.519204</td>\n",
       "      <td>-76.184028</td>\n",
       "    </tr>\n",
       "    <tr>\n",
       "      <th>2</th>\n",
       "      <td>Janna Elliott</td>\n",
       "      <td>&lt;p class=\"TweetTextSize js-tweet-text tweet-te...</td>\n",
       "      <td>262754823466782720</td>\n",
       "      <td>0</td>\n",
       "      <td>0</td>\n",
       "      <td>1</td>\n",
       "      <td>“@AHurricaneSandy: OPPA HURRICANE STYLE.” @Sar...</td>\n",
       "      <td>2012-10-29T03:16:46</td>\n",
       "      <td>/janna_x0/status/262754823466782720</td>\n",
       "      <td>janna_x0</td>\n",
       "      <td>38.519204</td>\n",
       "      <td>-76.184028</td>\n",
       "    </tr>\n",
       "    <tr>\n",
       "      <th>0</th>\n",
       "      <td>Skyler Fike</td>\n",
       "      <td>&lt;p class=\"TweetTextSize js-tweet-text tweet-te...</td>\n",
       "      <td>263280951944167426</td>\n",
       "      <td>0</td>\n",
       "      <td>0</td>\n",
       "      <td>0</td>\n",
       "      <td>Update #3 on Hurricane Sandy http://skylerfike...</td>\n",
       "      <td>2012-10-30T14:07:25</td>\n",
       "      <td>/skyfi/status/263280951944167426</td>\n",
       "      <td>skyfi</td>\n",
       "      <td>38.788700</td>\n",
       "      <td>-76.184028</td>\n",
       "    </tr>\n",
       "    <tr>\n",
       "      <th>1</th>\n",
       "      <td>Skyler Fike</td>\n",
       "      <td>&lt;p class=\"TweetTextSize js-tweet-text tweet-te...</td>\n",
       "      <td>262659696220073984</td>\n",
       "      <td>0</td>\n",
       "      <td>0</td>\n",
       "      <td>0</td>\n",
       "      <td>Pre-Hurricane Sandy http://skylerfike.com/2012...</td>\n",
       "      <td>2012-10-28T20:58:46</td>\n",
       "      <td>/skyfi/status/262659696220073984</td>\n",
       "      <td>skyfi</td>\n",
       "      <td>38.788700</td>\n",
       "      <td>-76.184028</td>\n",
       "    </tr>\n",
       "  </tbody>\n",
       "</table>\n",
       "</div>"
      ],
      "text/plain": [
       "        fullname                                               html  \\\n",
       "0   Johnny Smith  <p class=\"TweetTextSize js-tweet-text tweet-te...   \n",
       "1  William Jones  <p class=\"TweetTextSize js-tweet-text tweet-te...   \n",
       "2  Janna Elliott  <p class=\"TweetTextSize js-tweet-text tweet-te...   \n",
       "0    Skyler Fike  <p class=\"TweetTextSize js-tweet-text tweet-te...   \n",
       "1    Skyler Fike  <p class=\"TweetTextSize js-tweet-text tweet-te...   \n",
       "\n",
       "                   id  likes  replies  retweets  \\\n",
       "0  263008768340664321      0        0         0   \n",
       "1  262956623650230272      2        1         3   \n",
       "2  262754823466782720      0        0         1   \n",
       "0  263280951944167426      0        0         0   \n",
       "1  262659696220073984      0        0         0   \n",
       "\n",
       "                                                text            timestamp  \\\n",
       "0  #Sandy starting to be a real bitch !!!! http:/...  2012-10-29T20:05:51   \n",
       "1  You all told sandy to bring it on and now that...  2012-10-29T16:38:39   \n",
       "2  “@AHurricaneSandy: OPPA HURRICANE STYLE.” @Sar...  2012-10-29T03:16:46   \n",
       "0  Update #3 on Hurricane Sandy http://skylerfike...  2012-10-30T14:07:25   \n",
       "1  Pre-Hurricane Sandy http://skylerfike.com/2012...  2012-10-28T20:58:46   \n",
       "\n",
       "                                          url             user   latitude  \\\n",
       "0       /J_Smith_81/status/263008768340664321       J_Smith_81  38.519204   \n",
       "1  /william_jones93/status/262956623650230272  william_jones93  38.519204   \n",
       "2         /janna_x0/status/262754823466782720         janna_x0  38.519204   \n",
       "0            /skyfi/status/263280951944167426            skyfi  38.788700   \n",
       "1            /skyfi/status/262659696220073984            skyfi  38.788700   \n",
       "\n",
       "   longitude  \n",
       "0 -76.184028  \n",
       "1 -76.184028  \n",
       "2 -76.184028  \n",
       "0 -76.184028  \n",
       "1 -76.184028  "
      ]
     },
     "execution_count": 73,
     "metadata": {},
     "output_type": "execute_result"
    }
   ],
   "source": [
    "final_df_delaware.head()"
   ]
  },
  {
   "cell_type": "code",
   "execution_count": 74,
   "metadata": {},
   "outputs": [],
   "source": [
    "final_df_delaware.reset_index(drop=True, inplace=True)"
   ]
  },
  {
   "cell_type": "code",
   "execution_count": 75,
   "metadata": {},
   "outputs": [
    {
     "data": {
      "text/plain": [
       "(231, 12)"
      ]
     },
     "execution_count": 75,
     "metadata": {},
     "output_type": "execute_result"
    }
   ],
   "source": [
    "final_df_delaware.shape"
   ]
  },
  {
   "cell_type": "code",
   "execution_count": 76,
   "metadata": {},
   "outputs": [],
   "source": [
    "final_df_delaware.drop_duplicates(subset=['text'], inplace=True)"
   ]
  },
  {
   "cell_type": "code",
   "execution_count": 77,
   "metadata": {},
   "outputs": [
    {
     "data": {
      "text/plain": [
       "(224, 12)"
      ]
     },
     "execution_count": 77,
     "metadata": {},
     "output_type": "execute_result"
    }
   ],
   "source": [
    "final_df_delaware.shape"
   ]
  },
  {
   "cell_type": "code",
   "execution_count": 80,
   "metadata": {},
   "outputs": [],
   "source": [
    "for i in range(25):\n",
    "    \n",
    "    try:\n",
    "        with codecs.open(f'./jersey_max_1000/tweets{i}.json', 'r', 'utf-8') as f:\n",
    "            tweets = json.load(f, encoding='utf-8')\n",
    "\n",
    "        list_tweets = [list(elem.values()) for elem in tweets]\n",
    "        list_columns = list(tweets[0].keys())\n",
    "        df = pd.DataFrame(list_tweets, columns=list_columns)\n",
    "        df['latitude'] = test_grid4[i][0]\n",
    "        df['longitude'] = test_grid4[i][1]\n",
    "\n",
    "        if i == 0:\n",
    "            final_df_jersey = df\n",
    "\n",
    "        else:\n",
    "            final_df_jersey = pd.concat([final_df_jersey, df])\n",
    "    \n",
    "    except:\n",
    "        pass"
   ]
  },
  {
   "cell_type": "code",
   "execution_count": 81,
   "metadata": {},
   "outputs": [
    {
     "data": {
      "text/html": [
       "<div>\n",
       "<style scoped>\n",
       "    .dataframe tbody tr th:only-of-type {\n",
       "        vertical-align: middle;\n",
       "    }\n",
       "\n",
       "    .dataframe tbody tr th {\n",
       "        vertical-align: top;\n",
       "    }\n",
       "\n",
       "    .dataframe thead th {\n",
       "        text-align: right;\n",
       "    }\n",
       "</style>\n",
       "<table border=\"1\" class=\"dataframe\">\n",
       "  <thead>\n",
       "    <tr style=\"text-align: right;\">\n",
       "      <th></th>\n",
       "      <th>fullname</th>\n",
       "      <th>html</th>\n",
       "      <th>id</th>\n",
       "      <th>likes</th>\n",
       "      <th>replies</th>\n",
       "      <th>retweets</th>\n",
       "      <th>text</th>\n",
       "      <th>timestamp</th>\n",
       "      <th>url</th>\n",
       "      <th>user</th>\n",
       "      <th>latitude</th>\n",
       "      <th>longitude</th>\n",
       "    </tr>\n",
       "  </thead>\n",
       "  <tbody>\n",
       "    <tr>\n",
       "      <th>0</th>\n",
       "      <td>IceDaddyMackk_</td>\n",
       "      <td>&lt;p class=\"TweetTextSize js-tweet-text tweet-te...</td>\n",
       "      <td>262703551984324608</td>\n",
       "      <td>1</td>\n",
       "      <td>0</td>\n",
       "      <td>4</td>\n",
       "      <td>Giants fans can honestly go outside when Sandy...</td>\n",
       "      <td>2012-10-28T23:53:02</td>\n",
       "      <td>/IceDaddyMackk_/status/262703551984324608</td>\n",
       "      <td>IceDaddyMackk_</td>\n",
       "      <td>40.765261</td>\n",
       "      <td>-74.234681</td>\n",
       "    </tr>\n",
       "    <tr>\n",
       "      <th>1</th>\n",
       "      <td>IssaFatBeardy</td>\n",
       "      <td>&lt;p class=\"TweetTextSize js-tweet-text tweet-te...</td>\n",
       "      <td>262702810343288832</td>\n",
       "      <td>0</td>\n",
       "      <td>0</td>\n",
       "      <td>0</td>\n",
       "      <td>Sandy took one of Deeva's bows, shes feeling u...</td>\n",
       "      <td>2012-10-28T23:50:05</td>\n",
       "      <td>/DLano973/status/262702810343288832</td>\n",
       "      <td>DLano973</td>\n",
       "      <td>40.765261</td>\n",
       "      <td>-74.234681</td>\n",
       "    </tr>\n",
       "    <tr>\n",
       "      <th>2</th>\n",
       "      <td>Ana Karen</td>\n",
       "      <td>&lt;p class=\"TweetTextSize js-tweet-text tweet-te...</td>\n",
       "      <td>262702202769006592</td>\n",
       "      <td>0</td>\n",
       "      <td>0</td>\n",
       "      <td>0</td>\n",
       "      <td>Everything closed from now til supp Tuesday bc...</td>\n",
       "      <td>2012-10-28T23:47:40</td>\n",
       "      <td>/anakarenmarte/status/262702202769006592</td>\n",
       "      <td>anakarenmarte</td>\n",
       "      <td>40.765261</td>\n",
       "      <td>-74.234681</td>\n",
       "    </tr>\n",
       "    <tr>\n",
       "      <th>3</th>\n",
       "      <td>07079</td>\n",
       "      <td>&lt;p class=\"TweetTextSize js-tweet-text tweet-te...</td>\n",
       "      <td>262701906718253056</td>\n",
       "      <td>0</td>\n",
       "      <td>0</td>\n",
       "      <td>0</td>\n",
       "      <td>Locals Hit the Stores on Sunday, Hours Before ...</td>\n",
       "      <td>2012-10-28T23:46:29</td>\n",
       "      <td>/07079/status/262701906718253056</td>\n",
       "      <td>07079</td>\n",
       "      <td>40.765261</td>\n",
       "      <td>-74.234681</td>\n",
       "    </tr>\n",
       "    <tr>\n",
       "      <th>4</th>\n",
       "      <td>07041</td>\n",
       "      <td>&lt;p class=\"TweetTextSize js-tweet-text tweet-te...</td>\n",
       "      <td>262701891065114624</td>\n",
       "      <td>0</td>\n",
       "      <td>0</td>\n",
       "      <td>0</td>\n",
       "      <td>Closed Due to Hurricane Sandy http://bit.ly/UW...</td>\n",
       "      <td>2012-10-28T23:46:26</td>\n",
       "      <td>/07041/status/262701891065114624</td>\n",
       "      <td>07041</td>\n",
       "      <td>40.765261</td>\n",
       "      <td>-74.234681</td>\n",
       "    </tr>\n",
       "  </tbody>\n",
       "</table>\n",
       "</div>"
      ],
      "text/plain": [
       "         fullname                                               html  \\\n",
       "0  IceDaddyMackk_  <p class=\"TweetTextSize js-tweet-text tweet-te...   \n",
       "1   IssaFatBeardy  <p class=\"TweetTextSize js-tweet-text tweet-te...   \n",
       "2       Ana Karen  <p class=\"TweetTextSize js-tweet-text tweet-te...   \n",
       "3           07079  <p class=\"TweetTextSize js-tweet-text tweet-te...   \n",
       "4           07041  <p class=\"TweetTextSize js-tweet-text tweet-te...   \n",
       "\n",
       "                   id  likes  replies  retweets  \\\n",
       "0  262703551984324608      1        0         4   \n",
       "1  262702810343288832      0        0         0   \n",
       "2  262702202769006592      0        0         0   \n",
       "3  262701906718253056      0        0         0   \n",
       "4  262701891065114624      0        0         0   \n",
       "\n",
       "                                                text            timestamp  \\\n",
       "0  Giants fans can honestly go outside when Sandy...  2012-10-28T23:53:02   \n",
       "1  Sandy took one of Deeva's bows, shes feeling u...  2012-10-28T23:50:05   \n",
       "2  Everything closed from now til supp Tuesday bc...  2012-10-28T23:47:40   \n",
       "3  Locals Hit the Stores on Sunday, Hours Before ...  2012-10-28T23:46:29   \n",
       "4  Closed Due to Hurricane Sandy http://bit.ly/UW...  2012-10-28T23:46:26   \n",
       "\n",
       "                                         url            user   latitude  \\\n",
       "0  /IceDaddyMackk_/status/262703551984324608  IceDaddyMackk_  40.765261   \n",
       "1        /DLano973/status/262702810343288832        DLano973  40.765261   \n",
       "2   /anakarenmarte/status/262702202769006592   anakarenmarte  40.765261   \n",
       "3           /07079/status/262701906718253056           07079  40.765261   \n",
       "4           /07041/status/262701891065114624           07041  40.765261   \n",
       "\n",
       "   longitude  \n",
       "0 -74.234681  \n",
       "1 -74.234681  \n",
       "2 -74.234681  \n",
       "3 -74.234681  \n",
       "4 -74.234681  "
      ]
     },
     "execution_count": 81,
     "metadata": {},
     "output_type": "execute_result"
    }
   ],
   "source": [
    "final_df_jersey.head()"
   ]
  },
  {
   "cell_type": "code",
   "execution_count": 82,
   "metadata": {},
   "outputs": [],
   "source": [
    "final_df_jersey.reset_index(drop=True, inplace=True)"
   ]
  },
  {
   "cell_type": "code",
   "execution_count": 83,
   "metadata": {},
   "outputs": [
    {
     "data": {
      "text/plain": [
       "(6155, 12)"
      ]
     },
     "execution_count": 83,
     "metadata": {},
     "output_type": "execute_result"
    }
   ],
   "source": [
    "final_df_jersey.shape"
   ]
  },
  {
   "cell_type": "code",
   "execution_count": 84,
   "metadata": {},
   "outputs": [],
   "source": [
    "final_df_jersey.drop_duplicates(subset=['text'], inplace=True)"
   ]
  },
  {
   "cell_type": "code",
   "execution_count": 85,
   "metadata": {},
   "outputs": [
    {
     "data": {
      "text/plain": [
       "(6000, 12)"
      ]
     },
     "execution_count": 85,
     "metadata": {},
     "output_type": "execute_result"
    }
   ],
   "source": [
    "final_df_jersey.shape"
   ]
  },
  {
   "cell_type": "code",
   "execution_count": 87,
   "metadata": {},
   "outputs": [],
   "source": [
    "final_df = pd.concat([final_df, final_df_delaware, final_df_jersey, final_df_penn])"
   ]
  },
  {
   "cell_type": "code",
   "execution_count": 88,
   "metadata": {},
   "outputs": [
    {
     "data": {
      "text/plain": [
       "(13384, 12)"
      ]
     },
     "execution_count": 88,
     "metadata": {},
     "output_type": "execute_result"
    }
   ],
   "source": [
    "final_df.shape"
   ]
  },
  {
   "cell_type": "code",
   "execution_count": 89,
   "metadata": {},
   "outputs": [],
   "source": [
    "final_df.drop_duplicates(subset=['text'], inplace=True)"
   ]
  },
  {
   "cell_type": "code",
   "execution_count": 90,
   "metadata": {},
   "outputs": [
    {
     "data": {
      "text/plain": [
       "(10534, 12)"
      ]
     },
     "execution_count": 90,
     "metadata": {},
     "output_type": "execute_result"
    }
   ],
   "source": [
    "final_df.shape"
   ]
  },
  {
   "cell_type": "code",
   "execution_count": 104,
   "metadata": {},
   "outputs": [],
   "source": [
    "final_df.reset_index(drop=True, inplace=True)"
   ]
  },
  {
   "cell_type": "code",
   "execution_count": 105,
   "metadata": {},
   "outputs": [],
   "source": [
    "final_df.to_csv('./tweets.csv')"
   ]
  }
 ],
 "metadata": {
  "kernelspec": {
   "display_name": "Python 3",
   "language": "python",
   "name": "python3"
  },
  "language_info": {
   "codemirror_mode": {
    "name": "ipython",
    "version": 3
   },
   "file_extension": ".py",
   "mimetype": "text/x-python",
   "name": "python",
   "nbconvert_exporter": "python",
   "pygments_lexer": "ipython3",
   "version": "3.6.7"
  }
 },
 "nbformat": 4,
 "nbformat_minor": 2
}
